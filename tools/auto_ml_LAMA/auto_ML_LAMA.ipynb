{
  "cells": [
    {
      "cell_type": "markdown",
      "metadata": {
        "id": "b1Tzsfr_r82B"
      },
      "source": [
        "# Tutorial 6: Custom pipiline tutorial"
      ]
    },
    {
      "cell_type": "markdown",
      "metadata": {
        "id": "ANOyiBZXr82G"
      },
      "source": [
        "## Preparing"
      ]
    },
    {
      "cell_type": "markdown",
      "metadata": {
        "id": "-2vkfA1ar82H"
      },
      "source": [
        "### Step 1. Install LightAutoML"
      ]
    },
    {
      "cell_type": "markdown",
      "metadata": {
        "id": "C6wmt7FKr82I"
      },
      "source": [
        "Uncomment if doesn't clone repository by git. (ex.: colab, kaggle version)"
      ]
    },
    {
      "cell_type": "code",
      "execution_count": null,
      "metadata": {
        "id": "aoO9m8kcr82J",
        "outputId": "b11d18ea-2520-45ec-dd82-b50079ffdc18",
        "colab": {
          "base_uri": "https://localhost:8080/"
        }
      },
      "outputs": [
        {
          "output_type": "stream",
          "name": "stdout",
          "text": [
            "Looking in indexes: https://pypi.org/simple, https://us-python.pkg.dev/colab-wheels/public/simple/\n",
            "Collecting lightautoml\n",
            "  Downloading LightAutoML-0.3.7.3-py3-none-any.whl (319 kB)\n",
            "\u001b[2K     \u001b[90m━━━━━━━━━━━━━━━━━━━━━━━━━━━━━━━━━━━━━━━\u001b[0m \u001b[32m319.6/319.6 KB\u001b[0m \u001b[31m6.8 MB/s\u001b[0m eta \u001b[36m0:00:00\u001b[0m\n",
            "\u001b[?25hCollecting catboost>=0.26.1\n",
            "  Downloading catboost-1.1.1-cp38-none-manylinux1_x86_64.whl (76.6 MB)\n",
            "\u001b[2K     \u001b[90m━━━━━━━━━━━━━━━━━━━━━━━━━━━━━━━━━━━━━━━━\u001b[0m \u001b[32m76.6/76.6 MB\u001b[0m \u001b[31m12.2 MB/s\u001b[0m eta \u001b[36m0:00:00\u001b[0m\n",
            "\u001b[?25hRequirement already satisfied: networkx in /usr/local/lib/python3.8/dist-packages (from lightautoml) (3.0)\n",
            "Requirement already satisfied: seaborn in /usr/local/lib/python3.8/dist-packages (from lightautoml) (0.11.2)\n",
            "Requirement already satisfied: tqdm in /usr/local/lib/python3.8/dist-packages (from lightautoml) (4.64.1)\n",
            "Collecting poetry-core<2.0.0,>=1.0.0\n",
            "  Downloading poetry_core-1.5.1-py3-none-any.whl (465 kB)\n",
            "\u001b[2K     \u001b[90m━━━━━━━━━━━━━━━━━━━━━━━━━━━━━━━━━━━━━━\u001b[0m \u001b[32m465.2/465.2 KB\u001b[0m \u001b[31m36.7 MB/s\u001b[0m eta \u001b[36m0:00:00\u001b[0m\n",
            "\u001b[?25hRequirement already satisfied: jinja2 in /usr/local/lib/python3.8/dist-packages (from lightautoml) (3.1.2)\n",
            "Collecting cmaes\n",
            "  Downloading cmaes-0.9.1-py3-none-any.whl (21 kB)\n",
            "Requirement already satisfied: pandas<=1.4.3 in /usr/local/lib/python3.8/dist-packages (from lightautoml) (1.3.5)\n",
            "Collecting torch<1.9\n",
            "  Downloading torch-1.8.1-cp38-cp38-manylinux1_x86_64.whl (804.1 MB)\n",
            "\u001b[2K     \u001b[90m━━━━━━━━━━━━━━━━━━━━━━━━━━━━━━━━━━━━━━━\u001b[0m \u001b[32m804.1/804.1 MB\u001b[0m \u001b[31m2.0 MB/s\u001b[0m eta \u001b[36m0:00:00\u001b[0m\n",
            "\u001b[?25hCollecting json2html\n",
            "  Downloading json2html-1.3.0.tar.gz (7.0 kB)\n",
            "  Preparing metadata (setup.py) ... \u001b[?25l\u001b[?25hdone\n",
            "Requirement already satisfied: pyyaml in /usr/local/lib/python3.8/dist-packages (from lightautoml) (6.0)\n",
            "Collecting autowoe>=1.2\n",
            "  Downloading AutoWoE-1.3.2-py3-none-any.whl (215 kB)\n",
            "\u001b[2K     \u001b[90m━━━━━━━━━━━━━━━━━━━━━━━━━━━━━━━━━━━━━━\u001b[0m \u001b[32m215.7/215.7 KB\u001b[0m \u001b[31m22.4 MB/s\u001b[0m eta \u001b[36m0:00:00\u001b[0m\n",
            "\u001b[?25hRequirement already satisfied: torchvision in /usr/local/lib/python3.8/dist-packages (from lightautoml) (0.14.1+cu116)\n",
            "Requirement already satisfied: scikit-learn>=0.22 in /usr/local/lib/python3.8/dist-packages (from lightautoml) (1.2.1)\n",
            "Collecting optuna\n",
            "  Downloading optuna-3.1.0-py3-none-any.whl (365 kB)\n",
            "\u001b[2K     \u001b[90m━━━━━━━━━━━━━━━━━━━━━━━━━━━━━━━━━━━━━━\u001b[0m \u001b[32m365.3/365.3 KB\u001b[0m \u001b[31m35.7 MB/s\u001b[0m eta \u001b[36m0:00:00\u001b[0m\n",
            "\u001b[?25hCollecting lightgbm<=3.2.1,>=2.3\n",
            "  Downloading lightgbm-3.2.1-py3-none-manylinux1_x86_64.whl (2.0 MB)\n",
            "\u001b[2K     \u001b[90m━━━━━━━━━━━━━━━━━━━━━━━━━━━━━━━━━━━━━━━━\u001b[0m \u001b[32m2.0/2.0 MB\u001b[0m \u001b[31m67.3 MB/s\u001b[0m eta \u001b[36m0:00:00\u001b[0m\n",
            "\u001b[?25hRequirement already satisfied: holidays in /usr/local/lib/python3.8/dist-packages (from lightautoml) (0.20)\n",
            "Requirement already satisfied: joblib in /usr/local/lib/python3.8/dist-packages (from lightautoml) (1.2.0)\n",
            "Collecting StrEnum<0.5.0,>=0.4.7\n",
            "  Downloading StrEnum-0.4.9-py3-none-any.whl (7.6 kB)\n",
            "Requirement already satisfied: sphinx in /usr/local/lib/python3.8/dist-packages (from autowoe>=1.2->lightautoml) (3.5.4)\n",
            "Requirement already satisfied: pytz in /usr/local/lib/python3.8/dist-packages (from autowoe>=1.2->lightautoml) (2022.7.1)\n",
            "Collecting sphinx-rtd-theme\n",
            "  Downloading sphinx_rtd_theme-1.2.0-py2.py3-none-any.whl (2.8 MB)\n",
            "\u001b[2K     \u001b[90m━━━━━━━━━━━━━━━━━━━━━━━━━━━━━━━━━━━━━━━━\u001b[0m \u001b[32m2.8/2.8 MB\u001b[0m \u001b[31m77.1 MB/s\u001b[0m eta \u001b[36m0:00:00\u001b[0m\n",
            "\u001b[?25hRequirement already satisfied: numpy in /usr/local/lib/python3.8/dist-packages (from autowoe>=1.2->lightautoml) (1.22.4)\n",
            "Requirement already satisfied: pytest in /usr/local/lib/python3.8/dist-packages (from autowoe>=1.2->lightautoml) (3.6.4)\n",
            "Requirement already satisfied: scipy in /usr/local/lib/python3.8/dist-packages (from autowoe>=1.2->lightautoml) (1.10.1)\n",
            "Requirement already satisfied: matplotlib in /usr/local/lib/python3.8/dist-packages (from autowoe>=1.2->lightautoml) (3.5.3)\n",
            "Requirement already satisfied: plotly in /usr/local/lib/python3.8/dist-packages (from catboost>=0.26.1->lightautoml) (5.5.0)\n",
            "Requirement already satisfied: graphviz in /usr/local/lib/python3.8/dist-packages (from catboost>=0.26.1->lightautoml) (0.10.1)\n",
            "Requirement already satisfied: six in /usr/local/lib/python3.8/dist-packages (from catboost>=0.26.1->lightautoml) (1.15.0)\n",
            "Requirement already satisfied: wheel in /usr/local/lib/python3.8/dist-packages (from lightgbm<=3.2.1,>=2.3->lightautoml) (0.38.4)\n",
            "Requirement already satisfied: python-dateutil>=2.7.3 in /usr/local/lib/python3.8/dist-packages (from pandas<=1.4.3->lightautoml) (2.8.2)\n",
            "Requirement already satisfied: threadpoolctl>=2.0.0 in /usr/local/lib/python3.8/dist-packages (from scikit-learn>=0.22->lightautoml) (3.1.0)\n",
            "Requirement already satisfied: typing-extensions in /usr/local/lib/python3.8/dist-packages (from torch<1.9->lightautoml) (4.5.0)\n",
            "Requirement already satisfied: convertdate>=2.3.0 in /usr/local/lib/python3.8/dist-packages (from holidays->lightautoml) (2.4.0)\n",
            "Requirement already satisfied: PyMeeus in /usr/local/lib/python3.8/dist-packages (from holidays->lightautoml) (0.5.12)\n",
            "Requirement already satisfied: hijri-converter in /usr/local/lib/python3.8/dist-packages (from holidays->lightautoml) (2.2.4)\n",
            "Requirement already satisfied: korean-lunar-calendar in /usr/local/lib/python3.8/dist-packages (from holidays->lightautoml) (0.3.1)\n",
            "Requirement already satisfied: MarkupSafe>=2.0 in /usr/local/lib/python3.8/dist-packages (from jinja2->lightautoml) (2.1.2)\n",
            "Requirement already satisfied: packaging>=20.0 in /usr/local/lib/python3.8/dist-packages (from optuna->lightautoml) (23.0)\n",
            "Collecting alembic>=1.5.0\n",
            "  Downloading alembic-1.10.0-py3-none-any.whl (211 kB)\n",
            "\u001b[2K     \u001b[90m━━━━━━━━━━━━━━━━━━━━━━━━━━━━━━━━━━━━━━\u001b[0m \u001b[32m211.9/211.9 KB\u001b[0m \u001b[31m22.4 MB/s\u001b[0m eta \u001b[36m0:00:00\u001b[0m\n",
            "\u001b[?25hCollecting colorlog\n",
            "  Downloading colorlog-6.7.0-py2.py3-none-any.whl (11 kB)\n",
            "Requirement already satisfied: sqlalchemy>=1.3.0 in /usr/local/lib/python3.8/dist-packages (from optuna->lightautoml) (1.4.46)\n",
            "Requirement already satisfied: pillow!=8.3.*,>=5.3.0 in /usr/local/lib/python3.8/dist-packages (from torchvision->lightautoml) (8.4.0)\n",
            "Requirement already satisfied: requests in /usr/local/lib/python3.8/dist-packages (from torchvision->lightautoml) (2.25.1)\n",
            "Collecting torchvision\n",
            "  Downloading torchvision-0.14.1-cp38-cp38-manylinux1_x86_64.whl (24.2 MB)\n",
            "\u001b[2K     \u001b[90m━━━━━━━━━━━━━━━━━━━━━━━━━━━━━━━━━━━━━━━━\u001b[0m \u001b[32m24.2/24.2 MB\u001b[0m \u001b[31m59.0 MB/s\u001b[0m eta \u001b[36m0:00:00\u001b[0m\n",
            "\u001b[?25h  Downloading torchvision-0.14.0-cp38-cp38-manylinux1_x86_64.whl (24.3 MB)\n",
            "\u001b[2K     \u001b[90m━━━━━━━━━━━━━━━━━━━━━━━━━━━━━━━━━━━━━━━━\u001b[0m \u001b[32m24.3/24.3 MB\u001b[0m \u001b[31m28.8 MB/s\u001b[0m eta \u001b[36m0:00:00\u001b[0m\n",
            "\u001b[?25h  Downloading torchvision-0.13.1-cp38-cp38-manylinux1_x86_64.whl (19.1 MB)\n",
            "\u001b[2K     \u001b[90m━━━━━━━━━━━━━━━━━━━━━━━━━━━━━━━━━━━━━━━━\u001b[0m \u001b[32m19.1/19.1 MB\u001b[0m \u001b[31m67.3 MB/s\u001b[0m eta \u001b[36m0:00:00\u001b[0m\n",
            "\u001b[?25h  Downloading torchvision-0.13.0-cp38-cp38-manylinux1_x86_64.whl (19.1 MB)\n",
            "\u001b[2K     \u001b[90m━━━━━━━━━━━━━━━━━━━━━━━━━━━━━━━━━━━━━━━━\u001b[0m \u001b[32m19.1/19.1 MB\u001b[0m \u001b[31m13.5 MB/s\u001b[0m eta \u001b[36m0:00:00\u001b[0m\n",
            "\u001b[?25h  Downloading torchvision-0.12.0-cp38-cp38-manylinux1_x86_64.whl (21.0 MB)\n",
            "\u001b[2K     \u001b[90m━━━━━━━━━━━━━━━━━━━━━━━━━━━━━━━━━━━━━━━━\u001b[0m \u001b[32m21.0/21.0 MB\u001b[0m \u001b[31m70.3 MB/s\u001b[0m eta \u001b[36m0:00:00\u001b[0m\n",
            "\u001b[?25h  Downloading torchvision-0.11.3-cp38-cp38-manylinux1_x86_64.whl (23.2 MB)\n",
            "\u001b[2K     \u001b[90m━━━━━━━━━━━━━━━━━━━━━━━━━━━━━━━━━━━━━━━━\u001b[0m \u001b[32m23.2/23.2 MB\u001b[0m \u001b[31m72.0 MB/s\u001b[0m eta \u001b[36m0:00:00\u001b[0m\n",
            "\u001b[?25h  Downloading torchvision-0.11.2-cp38-cp38-manylinux1_x86_64.whl (23.3 MB)\n",
            "\u001b[2K     \u001b[90m━━━━━━━━━━━━━━━━━━━━━━━━━━━━━━━━━━━━━━━━\u001b[0m \u001b[32m23.3/23.3 MB\u001b[0m \u001b[31m29.8 MB/s\u001b[0m eta \u001b[36m0:00:00\u001b[0m\n",
            "\u001b[?25h  Downloading torchvision-0.11.1-cp38-cp38-manylinux1_x86_64.whl (23.3 MB)\n",
            "\u001b[2K     \u001b[90m━━━━━━━━━━━━━━━━━━━━━━━━━━━━━━━━━━━━━━━━\u001b[0m \u001b[32m23.3/23.3 MB\u001b[0m \u001b[31m12.8 MB/s\u001b[0m eta \u001b[36m0:00:00\u001b[0m\n",
            "\u001b[?25h  Downloading torchvision-0.10.1-cp38-cp38-manylinux1_x86_64.whl (22.1 MB)\n",
            "\u001b[2K     \u001b[90m━━━━━━━━━━━━━━━━━━━━━━━━━━━━━━━━━━━━━━━━\u001b[0m \u001b[32m22.1/22.1 MB\u001b[0m \u001b[31m54.0 MB/s\u001b[0m eta \u001b[36m0:00:00\u001b[0m\n",
            "\u001b[?25h  Downloading torchvision-0.10.0-cp38-cp38-manylinux1_x86_64.whl (22.1 MB)\n",
            "\u001b[2K     \u001b[90m━━━━━━━━━━━━━━━━━━━━━━━━━━━━━━━━━━━━━━━━\u001b[0m \u001b[32m22.1/22.1 MB\u001b[0m \u001b[31m75.3 MB/s\u001b[0m eta \u001b[36m0:00:00\u001b[0m\n",
            "\u001b[?25h  Downloading torchvision-0.9.1-cp38-cp38-manylinux1_x86_64.whl (17.4 MB)\n",
            "\u001b[2K     \u001b[90m━━━━━━━━━━━━━━━━━━━━━━━━━━━━━━━━━━━━━━━━\u001b[0m \u001b[32m17.4/17.4 MB\u001b[0m \u001b[31m82.4 MB/s\u001b[0m eta \u001b[36m0:00:00\u001b[0m\n",
            "\u001b[?25hRequirement already satisfied: importlib-resources in /usr/local/lib/python3.8/dist-packages (from alembic>=1.5.0->optuna->lightautoml) (5.12.0)\n",
            "Requirement already satisfied: importlib-metadata in /usr/local/lib/python3.8/dist-packages (from alembic>=1.5.0->optuna->lightautoml) (6.0.0)\n",
            "Collecting Mako\n",
            "  Downloading Mako-1.2.4-py3-none-any.whl (78 kB)\n",
            "\u001b[2K     \u001b[90m━━━━━━━━━━━━━━━━━━━━━━━━━━━━━━━━━━━━━━━━\u001b[0m \u001b[32m78.7/78.7 KB\u001b[0m \u001b[31m8.4 MB/s\u001b[0m eta \u001b[36m0:00:00\u001b[0m\n",
            "\u001b[?25hRequirement already satisfied: pyparsing>=2.2.1 in /usr/local/lib/python3.8/dist-packages (from matplotlib->autowoe>=1.2->lightautoml) (3.0.9)\n",
            "Requirement already satisfied: kiwisolver>=1.0.1 in /usr/local/lib/python3.8/dist-packages (from matplotlib->autowoe>=1.2->lightautoml) (1.4.4)\n",
            "Requirement already satisfied: cycler>=0.10 in /usr/local/lib/python3.8/dist-packages (from matplotlib->autowoe>=1.2->lightautoml) (0.11.0)\n",
            "Requirement already satisfied: fonttools>=4.22.0 in /usr/local/lib/python3.8/dist-packages (from matplotlib->autowoe>=1.2->lightautoml) (4.38.0)\n",
            "Requirement already satisfied: greenlet!=0.4.17 in /usr/local/lib/python3.8/dist-packages (from sqlalchemy>=1.3.0->optuna->lightautoml) (2.0.2)\n",
            "Requirement already satisfied: tenacity>=6.2.0 in /usr/local/lib/python3.8/dist-packages (from plotly->catboost>=0.26.1->lightautoml) (8.2.2)\n",
            "Requirement already satisfied: more-itertools>=4.0.0 in /usr/local/lib/python3.8/dist-packages (from pytest->autowoe>=1.2->lightautoml) (9.1.0)\n",
            "Requirement already satisfied: pluggy<0.8,>=0.5 in /usr/local/lib/python3.8/dist-packages (from pytest->autowoe>=1.2->lightautoml) (0.7.1)\n",
            "Requirement already satisfied: atomicwrites>=1.0 in /usr/local/lib/python3.8/dist-packages (from pytest->autowoe>=1.2->lightautoml) (1.4.1)\n",
            "Requirement already satisfied: attrs>=17.4.0 in /usr/local/lib/python3.8/dist-packages (from pytest->autowoe>=1.2->lightautoml) (22.2.0)\n",
            "Requirement already satisfied: py>=1.5.0 in /usr/local/lib/python3.8/dist-packages (from pytest->autowoe>=1.2->lightautoml) (1.11.0)\n",
            "Requirement already satisfied: setuptools in /usr/local/lib/python3.8/dist-packages (from pytest->autowoe>=1.2->lightautoml) (57.4.0)\n",
            "Requirement already satisfied: imagesize in /usr/local/lib/python3.8/dist-packages (from sphinx->autowoe>=1.2->lightautoml) (1.4.1)\n",
            "Requirement already satisfied: sphinxcontrib-applehelp in /usr/local/lib/python3.8/dist-packages (from sphinx->autowoe>=1.2->lightautoml) (1.0.4)\n",
            "Requirement already satisfied: sphinxcontrib-devhelp in /usr/local/lib/python3.8/dist-packages (from sphinx->autowoe>=1.2->lightautoml) (1.0.2)\n",
            "Requirement already satisfied: snowballstemmer>=1.1 in /usr/local/lib/python3.8/dist-packages (from sphinx->autowoe>=1.2->lightautoml) (2.2.0)\n",
            "Requirement already satisfied: sphinxcontrib-htmlhelp in /usr/local/lib/python3.8/dist-packages (from sphinx->autowoe>=1.2->lightautoml) (2.0.1)\n",
            "Requirement already satisfied: sphinxcontrib-serializinghtml in /usr/local/lib/python3.8/dist-packages (from sphinx->autowoe>=1.2->lightautoml) (1.1.5)\n",
            "Requirement already satisfied: sphinxcontrib-qthelp in /usr/local/lib/python3.8/dist-packages (from sphinx->autowoe>=1.2->lightautoml) (1.0.3)\n",
            "Requirement already satisfied: docutils<0.17,>=0.12 in /usr/local/lib/python3.8/dist-packages (from sphinx->autowoe>=1.2->lightautoml) (0.16)\n",
            "Requirement already satisfied: alabaster<0.8,>=0.7 in /usr/local/lib/python3.8/dist-packages (from sphinx->autowoe>=1.2->lightautoml) (0.7.13)\n",
            "Requirement already satisfied: sphinxcontrib-jsmath in /usr/local/lib/python3.8/dist-packages (from sphinx->autowoe>=1.2->lightautoml) (1.0.1)\n",
            "Requirement already satisfied: Pygments>=2.0 in /usr/local/lib/python3.8/dist-packages (from sphinx->autowoe>=1.2->lightautoml) (2.6.1)\n",
            "Requirement already satisfied: babel>=1.3 in /usr/local/lib/python3.8/dist-packages (from sphinx->autowoe>=1.2->lightautoml) (2.12.1)\n",
            "Collecting sphinxcontrib-jquery!=3.0.0,>=2.0.0\n",
            "  Downloading sphinxcontrib_jquery-2.0.0-py3-none-any.whl (3.2 kB)\n",
            "Requirement already satisfied: idna<3,>=2.5 in /usr/local/lib/python3.8/dist-packages (from requests->torchvision->lightautoml) (2.10)\n",
            "Requirement already satisfied: urllib3<1.27,>=1.21.1 in /usr/local/lib/python3.8/dist-packages (from requests->torchvision->lightautoml) (1.26.14)\n",
            "Requirement already satisfied: certifi>=2017.4.17 in /usr/local/lib/python3.8/dist-packages (from requests->torchvision->lightautoml) (2022.12.7)\n",
            "Requirement already satisfied: chardet<5,>=3.0.2 in /usr/local/lib/python3.8/dist-packages (from requests->torchvision->lightautoml) (4.0.0)\n",
            "Requirement already satisfied: zipp>=0.5 in /usr/local/lib/python3.8/dist-packages (from importlib-metadata->alembic>=1.5.0->optuna->lightautoml) (3.15.0)\n",
            "Building wheels for collected packages: json2html\n",
            "  Building wheel for json2html (setup.py) ... \u001b[?25l\u001b[?25hdone\n",
            "  Created wheel for json2html: filename=json2html-1.3.0-py3-none-any.whl size=7609 sha256=1a3ad81bc1f08df8c290ce6b383e5a7affd8e2de6addd634c708392a32c738e0\n",
            "  Stored in directory: /root/.cache/pip/wheels/34/1a/a9/0d39b9e11fc97dd947ca4df7f0f0c1f4f2e25727d3c63b7739\n",
            "Successfully built json2html\n",
            "Installing collected packages: StrEnum, json2html, torch, sphinxcontrib-jquery, poetry-core, Mako, colorlog, cmaes, torchvision, alembic, sphinx-rtd-theme, optuna, lightgbm, catboost, autowoe, lightautoml\n",
            "  Attempting uninstall: torch\n",
            "    Found existing installation: torch 1.13.1+cu116\n",
            "    Uninstalling torch-1.13.1+cu116:\n",
            "      Successfully uninstalled torch-1.13.1+cu116\n",
            "  Attempting uninstall: torchvision\n",
            "    Found existing installation: torchvision 0.14.1+cu116\n",
            "    Uninstalling torchvision-0.14.1+cu116:\n",
            "      Successfully uninstalled torchvision-0.14.1+cu116\n",
            "  Attempting uninstall: lightgbm\n",
            "    Found existing installation: lightgbm 2.2.3\n",
            "    Uninstalling lightgbm-2.2.3:\n",
            "      Successfully uninstalled lightgbm-2.2.3\n",
            "\u001b[31mERROR: pip's dependency resolver does not currently take into account all the packages that are installed. This behaviour is the source of the following dependency conflicts.\n",
            "torchtext 0.14.1 requires torch==1.13.1, but you have torch 1.8.1 which is incompatible.\n",
            "torchaudio 0.13.1+cu116 requires torch==1.13.1, but you have torch 1.8.1 which is incompatible.\u001b[0m\u001b[31m\n",
            "\u001b[0mSuccessfully installed Mako-1.2.4 StrEnum-0.4.9 alembic-1.10.0 autowoe-1.3.2 catboost-1.1.1 cmaes-0.9.1 colorlog-6.7.0 json2html-1.3.0 lightautoml-0.3.7.3 lightgbm-3.2.1 optuna-3.1.0 poetry-core-1.5.1 sphinx-rtd-theme-1.2.0 sphinxcontrib-jquery-2.0.0 torch-1.8.1 torchvision-0.9.1\n"
          ]
        }
      ],
      "source": [
        "! pip install -U lightautoml"
      ]
    },
    {
      "cell_type": "markdown",
      "metadata": {
        "id": "NviuPZcsr82K"
      },
      "source": [
        "### Step 2. Import necessary libraries "
      ]
    },
    {
      "cell_type": "code",
      "execution_count": null,
      "metadata": {
        "id": "JslltqmKr82L"
      },
      "outputs": [],
      "source": [
        "# Standard python libraries\n",
        "import os\n",
        "import time\n",
        "import requests\n",
        "\n",
        "\n",
        "# Installed libraries\n",
        "import numpy as np\n",
        "import pandas as pd\n",
        "from sklearn.metrics import roc_auc_score, f1_score\n",
        "from sklearn.model_selection import train_test_split\n",
        "from sklearn.preprocessing import LabelEncoder\n",
        "import torch\n",
        "\n",
        "# Imports from our package\n",
        "from lightautoml.automl.base import AutoML\n",
        "from lightautoml.ml_algo.boost_lgbm import BoostLGBM\n",
        "from lightautoml.ml_algo.tuning.optuna import OptunaTuner\n",
        "from lightautoml.pipelines.features.lgb_pipeline import LGBSimpleFeatures\n",
        "from lightautoml.pipelines.ml.base import MLPipeline\n",
        "from lightautoml.pipelines.selection.importance_based import ImportanceCutoffSelector, ModelBasedImportanceEstimator\n",
        "from lightautoml.reader.base import PandasToPandasReader\n",
        "from lightautoml.tasks import Task\n",
        "from lightautoml.automl.blend import WeightedBlender\n",
        "#from lightautoml.transformers.categorical import LabelEncoder\n",
        "\n",
        "import pickle"
      ]
    },
    {
      "cell_type": "markdown",
      "metadata": {
        "id": "m3LEjZ5Mr82M"
      },
      "source": [
        "### Step 3. Parameters "
      ]
    },
    {
      "cell_type": "code",
      "execution_count": null,
      "metadata": {
        "id": "o1WKxSQwr82N"
      },
      "outputs": [],
      "source": [
        "N_THREADS = 8 # threads cnt for lgbm and linear models\n",
        "N_FOLDS = 5 # folds cnt for AutoML\n",
        "RANDOM_STATE = 42 # fixed random state for various reasons\n",
        "TEST_SIZE = 0.2 # Test size for metric check\n",
        "TARGET_NAME = 'func_class' # Target column name"
      ]
    },
    {
      "cell_type": "markdown",
      "metadata": {
        "id": "cJRsn_3er82O"
      },
      "source": [
        "### Step 4. Fix torch number of threads and numpy seed "
      ]
    },
    {
      "cell_type": "code",
      "execution_count": null,
      "metadata": {
        "id": "550-LwVhr82P"
      },
      "outputs": [],
      "source": [
        "np.random.seed(RANDOM_STATE)\n",
        "torch.set_num_threads(N_THREADS)"
      ]
    },
    {
      "cell_type": "markdown",
      "metadata": {
        "id": "dId1bCdsr82P"
      },
      "source": [
        "### Step 5. Example data load "
      ]
    },
    {
      "cell_type": "markdown",
      "metadata": {
        "id": "sQrxHrwbr82Q"
      },
      "source": [
        "Load a dataset from the repository if doesn't clone repository by git."
      ]
    },
    {
      "cell_type": "code",
      "execution_count": null,
      "metadata": {
        "id": "Kcm-Ly3Ur82Q"
      },
      "outputs": [],
      "source": [
        "DATASET_DIR = './data/'\n",
        "DATASET_NAME = 'train_feature_graph_values.csv'\n",
        "DATASET_FULLNAME = os.path.join(DATASET_DIR, DATASET_NAME)\n",
        "#DATASET_URL = r'.../train_feature_graph_values.csv'"
      ]
    },
    {
      "cell_type": "code",
      "execution_count": null,
      "metadata": {
        "id": "RL92M7wDr82R",
        "outputId": "70e1d5a7-2c70-4a89-cdce-fd5e7435f6d3",
        "colab": {
          "base_uri": "https://localhost:8080/"
        }
      },
      "outputs": [
        {
          "output_type": "stream",
          "name": "stdout",
          "text": [
            "CPU times: user 927 µs, sys: 3 µs, total: 930 µs\n",
            "Wall time: 2.04 ms\n"
          ]
        }
      ],
      "source": [
        "%%time\n",
        "\n",
        "if not os.path.exists(DATASET_FULLNAME):\n",
        "    os.makedirs(DATASET_DIR, exist_ok=True)\n",
        "\n",
        "    dataset = requests.get(DATASET_URL).text\n",
        "    with open(DATASET_FULLNAME, 'w') as output:\n",
        "        output.write(dataset)"
      ]
    },
    {
      "cell_type": "code",
      "execution_count": null,
      "metadata": {
        "id": "fuTItsbmr82S",
        "outputId": "d731f172-0a59-437c-caa9-66bfd9d5518d",
        "colab": {
          "base_uri": "https://localhost:8080/",
          "height": 602
        }
      },
      "outputs": [
        {
          "output_type": "stream",
          "name": "stdout",
          "text": [
            "CPU times: user 224 ms, sys: 6.88 ms, total: 231 ms\n",
            "Wall time: 250 ms\n"
          ]
        },
        {
          "output_type": "execute_result",
          "data": {
            "text/plain": [
              "  compiller version compiler_option                         name_hash  \\\n",
              "0       gcc  10.2.1              Og  09e29e012476cbc7fbc8f4aea11dfc95   \n",
              "1       gcc  10.2.1              Og  7a0bf6fdc429813ac22c6214adfd4169   \n",
              "2       gcc   9.3.0           Ofast  671f56991dda1de967d83ddb26e000ef   \n",
              "3       gcc   9.3.0           Ofast  cdbc9d3aace74424320af209eac9c0bf   \n",
              "4       gcc   9.3.0           Ofast  0dbef1318f69d668de203321b5c0f6b6   \n",
              "\n",
              "   instructions_count                                          func_body  \\\n",
              "0                 823  ['push r15', 'mov r15, rdx', 'push r14', 'mov ...   \n",
              "1                 102  ['cmp rdx, ADDR', 'jbe FCN', 'add rdx, 1', 'mo...   \n",
              "2                  87  ['push r15', 'push r14', 'mov r14, rcx', 'push...   \n",
              "3                  45  ['push r12', 'lea rax, [ADDR]', 'push rbp', 'l...   \n",
              "4                  20  ['push rbp', 'push rbx', 'sub rsp, 8', 'mov rb...   \n",
              "\n",
              "   vcount  diameter  girth  radius  average_path_length  \\\n",
              "0     182        34    3.0       0            15.027724   \n",
              "1      22         8    4.0       0             3.386598   \n",
              "2      19        10    3.0       0             3.710526   \n",
              "3       8         4    3.0       2             2.236842   \n",
              "4       4         2    4.0       0             1.333333   \n",
              "\n",
              "   transitivity_avglocal_undirected                    func_class  \n",
              "0                          0.151361                        System  \n",
              "1                          0.000000  'String and text processing'  \n",
              "2                          0.157407                        System  \n",
              "3                          0.208333                       Another  \n",
              "4                          0.000000                   Programming  "
            ],
            "text/html": [
              "\n",
              "  <div id=\"df-8da2e64b-ab99-42bb-a2e9-a3657eeacce2\">\n",
              "    <div class=\"colab-df-container\">\n",
              "      <div>\n",
              "<style scoped>\n",
              "    .dataframe tbody tr th:only-of-type {\n",
              "        vertical-align: middle;\n",
              "    }\n",
              "\n",
              "    .dataframe tbody tr th {\n",
              "        vertical-align: top;\n",
              "    }\n",
              "\n",
              "    .dataframe thead th {\n",
              "        text-align: right;\n",
              "    }\n",
              "</style>\n",
              "<table border=\"1\" class=\"dataframe\">\n",
              "  <thead>\n",
              "    <tr style=\"text-align: right;\">\n",
              "      <th></th>\n",
              "      <th>compiller</th>\n",
              "      <th>version</th>\n",
              "      <th>compiler_option</th>\n",
              "      <th>name_hash</th>\n",
              "      <th>instructions_count</th>\n",
              "      <th>func_body</th>\n",
              "      <th>vcount</th>\n",
              "      <th>diameter</th>\n",
              "      <th>girth</th>\n",
              "      <th>radius</th>\n",
              "      <th>average_path_length</th>\n",
              "      <th>transitivity_avglocal_undirected</th>\n",
              "      <th>func_class</th>\n",
              "    </tr>\n",
              "  </thead>\n",
              "  <tbody>\n",
              "    <tr>\n",
              "      <th>0</th>\n",
              "      <td>gcc</td>\n",
              "      <td>10.2.1</td>\n",
              "      <td>Og</td>\n",
              "      <td>09e29e012476cbc7fbc8f4aea11dfc95</td>\n",
              "      <td>823</td>\n",
              "      <td>['push r15', 'mov r15, rdx', 'push r14', 'mov ...</td>\n",
              "      <td>182</td>\n",
              "      <td>34</td>\n",
              "      <td>3.0</td>\n",
              "      <td>0</td>\n",
              "      <td>15.027724</td>\n",
              "      <td>0.151361</td>\n",
              "      <td>System</td>\n",
              "    </tr>\n",
              "    <tr>\n",
              "      <th>1</th>\n",
              "      <td>gcc</td>\n",
              "      <td>10.2.1</td>\n",
              "      <td>Og</td>\n",
              "      <td>7a0bf6fdc429813ac22c6214adfd4169</td>\n",
              "      <td>102</td>\n",
              "      <td>['cmp rdx, ADDR', 'jbe FCN', 'add rdx, 1', 'mo...</td>\n",
              "      <td>22</td>\n",
              "      <td>8</td>\n",
              "      <td>4.0</td>\n",
              "      <td>0</td>\n",
              "      <td>3.386598</td>\n",
              "      <td>0.000000</td>\n",
              "      <td>'String and text processing'</td>\n",
              "    </tr>\n",
              "    <tr>\n",
              "      <th>2</th>\n",
              "      <td>gcc</td>\n",
              "      <td>9.3.0</td>\n",
              "      <td>Ofast</td>\n",
              "      <td>671f56991dda1de967d83ddb26e000ef</td>\n",
              "      <td>87</td>\n",
              "      <td>['push r15', 'push r14', 'mov r14, rcx', 'push...</td>\n",
              "      <td>19</td>\n",
              "      <td>10</td>\n",
              "      <td>3.0</td>\n",
              "      <td>0</td>\n",
              "      <td>3.710526</td>\n",
              "      <td>0.157407</td>\n",
              "      <td>System</td>\n",
              "    </tr>\n",
              "    <tr>\n",
              "      <th>3</th>\n",
              "      <td>gcc</td>\n",
              "      <td>9.3.0</td>\n",
              "      <td>Ofast</td>\n",
              "      <td>cdbc9d3aace74424320af209eac9c0bf</td>\n",
              "      <td>45</td>\n",
              "      <td>['push r12', 'lea rax, [ADDR]', 'push rbp', 'l...</td>\n",
              "      <td>8</td>\n",
              "      <td>4</td>\n",
              "      <td>3.0</td>\n",
              "      <td>2</td>\n",
              "      <td>2.236842</td>\n",
              "      <td>0.208333</td>\n",
              "      <td>Another</td>\n",
              "    </tr>\n",
              "    <tr>\n",
              "      <th>4</th>\n",
              "      <td>gcc</td>\n",
              "      <td>9.3.0</td>\n",
              "      <td>Ofast</td>\n",
              "      <td>0dbef1318f69d668de203321b5c0f6b6</td>\n",
              "      <td>20</td>\n",
              "      <td>['push rbp', 'push rbx', 'sub rsp, 8', 'mov rb...</td>\n",
              "      <td>4</td>\n",
              "      <td>2</td>\n",
              "      <td>4.0</td>\n",
              "      <td>0</td>\n",
              "      <td>1.333333</td>\n",
              "      <td>0.000000</td>\n",
              "      <td>Programming</td>\n",
              "    </tr>\n",
              "  </tbody>\n",
              "</table>\n",
              "</div>\n",
              "      <button class=\"colab-df-convert\" onclick=\"convertToInteractive('df-8da2e64b-ab99-42bb-a2e9-a3657eeacce2')\"\n",
              "              title=\"Convert this dataframe to an interactive table.\"\n",
              "              style=\"display:none;\">\n",
              "        \n",
              "  <svg xmlns=\"http://www.w3.org/2000/svg\" height=\"24px\"viewBox=\"0 0 24 24\"\n",
              "       width=\"24px\">\n",
              "    <path d=\"M0 0h24v24H0V0z\" fill=\"none\"/>\n",
              "    <path d=\"M18.56 5.44l.94 2.06.94-2.06 2.06-.94-2.06-.94-.94-2.06-.94 2.06-2.06.94zm-11 1L8.5 8.5l.94-2.06 2.06-.94-2.06-.94L8.5 2.5l-.94 2.06-2.06.94zm10 10l.94 2.06.94-2.06 2.06-.94-2.06-.94-.94-2.06-.94 2.06-2.06.94z\"/><path d=\"M17.41 7.96l-1.37-1.37c-.4-.4-.92-.59-1.43-.59-.52 0-1.04.2-1.43.59L10.3 9.45l-7.72 7.72c-.78.78-.78 2.05 0 2.83L4 21.41c.39.39.9.59 1.41.59.51 0 1.02-.2 1.41-.59l7.78-7.78 2.81-2.81c.8-.78.8-2.07 0-2.86zM5.41 20L4 18.59l7.72-7.72 1.47 1.35L5.41 20z\"/>\n",
              "  </svg>\n",
              "      </button>\n",
              "      \n",
              "  <style>\n",
              "    .colab-df-container {\n",
              "      display:flex;\n",
              "      flex-wrap:wrap;\n",
              "      gap: 12px;\n",
              "    }\n",
              "\n",
              "    .colab-df-convert {\n",
              "      background-color: #E8F0FE;\n",
              "      border: none;\n",
              "      border-radius: 50%;\n",
              "      cursor: pointer;\n",
              "      display: none;\n",
              "      fill: #1967D2;\n",
              "      height: 32px;\n",
              "      padding: 0 0 0 0;\n",
              "      width: 32px;\n",
              "    }\n",
              "\n",
              "    .colab-df-convert:hover {\n",
              "      background-color: #E2EBFA;\n",
              "      box-shadow: 0px 1px 2px rgba(60, 64, 67, 0.3), 0px 1px 3px 1px rgba(60, 64, 67, 0.15);\n",
              "      fill: #174EA6;\n",
              "    }\n",
              "\n",
              "    [theme=dark] .colab-df-convert {\n",
              "      background-color: #3B4455;\n",
              "      fill: #D2E3FC;\n",
              "    }\n",
              "\n",
              "    [theme=dark] .colab-df-convert:hover {\n",
              "      background-color: #434B5C;\n",
              "      box-shadow: 0px 1px 3px 1px rgba(0, 0, 0, 0.15);\n",
              "      filter: drop-shadow(0px 1px 2px rgba(0, 0, 0, 0.3));\n",
              "      fill: #FFFFFF;\n",
              "    }\n",
              "  </style>\n",
              "\n",
              "      <script>\n",
              "        const buttonEl =\n",
              "          document.querySelector('#df-8da2e64b-ab99-42bb-a2e9-a3657eeacce2 button.colab-df-convert');\n",
              "        buttonEl.style.display =\n",
              "          google.colab.kernel.accessAllowed ? 'block' : 'none';\n",
              "\n",
              "        async function convertToInteractive(key) {\n",
              "          const element = document.querySelector('#df-8da2e64b-ab99-42bb-a2e9-a3657eeacce2');\n",
              "          const dataTable =\n",
              "            await google.colab.kernel.invokeFunction('convertToInteractive',\n",
              "                                                     [key], {});\n",
              "          if (!dataTable) return;\n",
              "\n",
              "          const docLinkHtml = 'Like what you see? Visit the ' +\n",
              "            '<a target=\"_blank\" href=https://colab.research.google.com/notebooks/data_table.ipynb>data table notebook</a>'\n",
              "            + ' to learn more about interactive tables.';\n",
              "          element.innerHTML = '';\n",
              "          dataTable['output_type'] = 'display_data';\n",
              "          await google.colab.output.renderOutput(dataTable, element);\n",
              "          const docLink = document.createElement('div');\n",
              "          docLink.innerHTML = docLinkHtml;\n",
              "          element.appendChild(docLink);\n",
              "        }\n",
              "      </script>\n",
              "    </div>\n",
              "  </div>\n",
              "  "
            ]
          },
          "metadata": {},
          "execution_count": 119
        }
      ],
      "source": [
        "%%time\n",
        "#df = pandas.read_csv(filepath, sep='delimiter', header=None)\n",
        "data = pd.read_csv(DATASET_FULLNAME)#, sep=';', header=None)\n",
        "data.head()"
      ]
    },
    {
      "cell_type": "markdown",
      "metadata": {
        "id": "rsyiGM-sr82S"
      },
      "source": [
        "### Step 6. (Optional) Some user feature preparation "
      ]
    },
    {
      "cell_type": "markdown",
      "metadata": {
        "id": "MkuOMV6Hr82T"
      },
      "source": [
        "Cell below shows some user feature preparations to create task more difficult (this block can be omitted if you don't want to change the initial data):"
      ]
    },
    {
      "cell_type": "code",
      "execution_count": null,
      "metadata": {
        "id": "pcCFZEgwr82T",
        "outputId": "4be88311-ee82-4308-add7-32704635b4c5",
        "colab": {
          "base_uri": "https://localhost:8080/",
          "height": 373
        }
      },
      "outputs": [
        {
          "output_type": "stream",
          "name": "stdout",
          "text": [
            "CPU times: user 3.35 ms, sys: 82 µs, total: 3.43 ms\n",
            "Wall time: 3.24 ms\n"
          ]
        },
        {
          "output_type": "execute_result",
          "data": {
            "text/plain": [
              "   instructions_count                                          func_body  \\\n",
              "0                 823  ['push r15', 'mov r15, rdx', 'push r14', 'mov ...   \n",
              "1                 102  ['cmp rdx, ADDR', 'jbe FCN', 'add rdx, 1', 'mo...   \n",
              "2                  87  ['push r15', 'push r14', 'mov r14, rcx', 'push...   \n",
              "3                  45  ['push r12', 'lea rax, [ADDR]', 'push rbp', 'l...   \n",
              "4                  20  ['push rbp', 'push rbx', 'sub rsp, 8', 'mov rb...   \n",
              "\n",
              "   vcount  diameter  girth  radius  average_path_length  \\\n",
              "0     182        34    3.0       0            15.027724   \n",
              "1      22         8    4.0       0             3.386598   \n",
              "2      19        10    3.0       0             3.710526   \n",
              "3       8         4    3.0       2             2.236842   \n",
              "4       4         2    4.0       0             1.333333   \n",
              "\n",
              "   transitivity_avglocal_undirected                    func_class  \n",
              "0                          0.151361                        System  \n",
              "1                          0.000000  'String and text processing'  \n",
              "2                          0.157407                        System  \n",
              "3                          0.208333                       Another  \n",
              "4                          0.000000                   Programming  "
            ],
            "text/html": [
              "\n",
              "  <div id=\"df-8bc49f78-02a1-49aa-add4-c4eac118ccc6\">\n",
              "    <div class=\"colab-df-container\">\n",
              "      <div>\n",
              "<style scoped>\n",
              "    .dataframe tbody tr th:only-of-type {\n",
              "        vertical-align: middle;\n",
              "    }\n",
              "\n",
              "    .dataframe tbody tr th {\n",
              "        vertical-align: top;\n",
              "    }\n",
              "\n",
              "    .dataframe thead th {\n",
              "        text-align: right;\n",
              "    }\n",
              "</style>\n",
              "<table border=\"1\" class=\"dataframe\">\n",
              "  <thead>\n",
              "    <tr style=\"text-align: right;\">\n",
              "      <th></th>\n",
              "      <th>instructions_count</th>\n",
              "      <th>func_body</th>\n",
              "      <th>vcount</th>\n",
              "      <th>diameter</th>\n",
              "      <th>girth</th>\n",
              "      <th>radius</th>\n",
              "      <th>average_path_length</th>\n",
              "      <th>transitivity_avglocal_undirected</th>\n",
              "      <th>func_class</th>\n",
              "    </tr>\n",
              "  </thead>\n",
              "  <tbody>\n",
              "    <tr>\n",
              "      <th>0</th>\n",
              "      <td>823</td>\n",
              "      <td>['push r15', 'mov r15, rdx', 'push r14', 'mov ...</td>\n",
              "      <td>182</td>\n",
              "      <td>34</td>\n",
              "      <td>3.0</td>\n",
              "      <td>0</td>\n",
              "      <td>15.027724</td>\n",
              "      <td>0.151361</td>\n",
              "      <td>System</td>\n",
              "    </tr>\n",
              "    <tr>\n",
              "      <th>1</th>\n",
              "      <td>102</td>\n",
              "      <td>['cmp rdx, ADDR', 'jbe FCN', 'add rdx, 1', 'mo...</td>\n",
              "      <td>22</td>\n",
              "      <td>8</td>\n",
              "      <td>4.0</td>\n",
              "      <td>0</td>\n",
              "      <td>3.386598</td>\n",
              "      <td>0.000000</td>\n",
              "      <td>'String and text processing'</td>\n",
              "    </tr>\n",
              "    <tr>\n",
              "      <th>2</th>\n",
              "      <td>87</td>\n",
              "      <td>['push r15', 'push r14', 'mov r14, rcx', 'push...</td>\n",
              "      <td>19</td>\n",
              "      <td>10</td>\n",
              "      <td>3.0</td>\n",
              "      <td>0</td>\n",
              "      <td>3.710526</td>\n",
              "      <td>0.157407</td>\n",
              "      <td>System</td>\n",
              "    </tr>\n",
              "    <tr>\n",
              "      <th>3</th>\n",
              "      <td>45</td>\n",
              "      <td>['push r12', 'lea rax, [ADDR]', 'push rbp', 'l...</td>\n",
              "      <td>8</td>\n",
              "      <td>4</td>\n",
              "      <td>3.0</td>\n",
              "      <td>2</td>\n",
              "      <td>2.236842</td>\n",
              "      <td>0.208333</td>\n",
              "      <td>Another</td>\n",
              "    </tr>\n",
              "    <tr>\n",
              "      <th>4</th>\n",
              "      <td>20</td>\n",
              "      <td>['push rbp', 'push rbx', 'sub rsp, 8', 'mov rb...</td>\n",
              "      <td>4</td>\n",
              "      <td>2</td>\n",
              "      <td>4.0</td>\n",
              "      <td>0</td>\n",
              "      <td>1.333333</td>\n",
              "      <td>0.000000</td>\n",
              "      <td>Programming</td>\n",
              "    </tr>\n",
              "  </tbody>\n",
              "</table>\n",
              "</div>\n",
              "      <button class=\"colab-df-convert\" onclick=\"convertToInteractive('df-8bc49f78-02a1-49aa-add4-c4eac118ccc6')\"\n",
              "              title=\"Convert this dataframe to an interactive table.\"\n",
              "              style=\"display:none;\">\n",
              "        \n",
              "  <svg xmlns=\"http://www.w3.org/2000/svg\" height=\"24px\"viewBox=\"0 0 24 24\"\n",
              "       width=\"24px\">\n",
              "    <path d=\"M0 0h24v24H0V0z\" fill=\"none\"/>\n",
              "    <path d=\"M18.56 5.44l.94 2.06.94-2.06 2.06-.94-2.06-.94-.94-2.06-.94 2.06-2.06.94zm-11 1L8.5 8.5l.94-2.06 2.06-.94-2.06-.94L8.5 2.5l-.94 2.06-2.06.94zm10 10l.94 2.06.94-2.06 2.06-.94-2.06-.94-.94-2.06-.94 2.06-2.06.94z\"/><path d=\"M17.41 7.96l-1.37-1.37c-.4-.4-.92-.59-1.43-.59-.52 0-1.04.2-1.43.59L10.3 9.45l-7.72 7.72c-.78.78-.78 2.05 0 2.83L4 21.41c.39.39.9.59 1.41.59.51 0 1.02-.2 1.41-.59l7.78-7.78 2.81-2.81c.8-.78.8-2.07 0-2.86zM5.41 20L4 18.59l7.72-7.72 1.47 1.35L5.41 20z\"/>\n",
              "  </svg>\n",
              "      </button>\n",
              "      \n",
              "  <style>\n",
              "    .colab-df-container {\n",
              "      display:flex;\n",
              "      flex-wrap:wrap;\n",
              "      gap: 12px;\n",
              "    }\n",
              "\n",
              "    .colab-df-convert {\n",
              "      background-color: #E8F0FE;\n",
              "      border: none;\n",
              "      border-radius: 50%;\n",
              "      cursor: pointer;\n",
              "      display: none;\n",
              "      fill: #1967D2;\n",
              "      height: 32px;\n",
              "      padding: 0 0 0 0;\n",
              "      width: 32px;\n",
              "    }\n",
              "\n",
              "    .colab-df-convert:hover {\n",
              "      background-color: #E2EBFA;\n",
              "      box-shadow: 0px 1px 2px rgba(60, 64, 67, 0.3), 0px 1px 3px 1px rgba(60, 64, 67, 0.15);\n",
              "      fill: #174EA6;\n",
              "    }\n",
              "\n",
              "    [theme=dark] .colab-df-convert {\n",
              "      background-color: #3B4455;\n",
              "      fill: #D2E3FC;\n",
              "    }\n",
              "\n",
              "    [theme=dark] .colab-df-convert:hover {\n",
              "      background-color: #434B5C;\n",
              "      box-shadow: 0px 1px 3px 1px rgba(0, 0, 0, 0.15);\n",
              "      filter: drop-shadow(0px 1px 2px rgba(0, 0, 0, 0.3));\n",
              "      fill: #FFFFFF;\n",
              "    }\n",
              "  </style>\n",
              "\n",
              "      <script>\n",
              "        const buttonEl =\n",
              "          document.querySelector('#df-8bc49f78-02a1-49aa-add4-c4eac118ccc6 button.colab-df-convert');\n",
              "        buttonEl.style.display =\n",
              "          google.colab.kernel.accessAllowed ? 'block' : 'none';\n",
              "\n",
              "        async function convertToInteractive(key) {\n",
              "          const element = document.querySelector('#df-8bc49f78-02a1-49aa-add4-c4eac118ccc6');\n",
              "          const dataTable =\n",
              "            await google.colab.kernel.invokeFunction('convertToInteractive',\n",
              "                                                     [key], {});\n",
              "          if (!dataTable) return;\n",
              "\n",
              "          const docLinkHtml = 'Like what you see? Visit the ' +\n",
              "            '<a target=\"_blank\" href=https://colab.research.google.com/notebooks/data_table.ipynb>data table notebook</a>'\n",
              "            + ' to learn more about interactive tables.';\n",
              "          element.innerHTML = '';\n",
              "          dataTable['output_type'] = 'display_data';\n",
              "          await google.colab.output.renderOutput(dataTable, element);\n",
              "          const docLink = document.createElement('div');\n",
              "          docLink.innerHTML = docLinkHtml;\n",
              "          element.appendChild(docLink);\n",
              "        }\n",
              "      </script>\n",
              "    </div>\n",
              "  </div>\n",
              "  "
            ]
          },
          "metadata": {},
          "execution_count": 120
        }
      ],
      "source": [
        "%%time\n",
        "\n",
        "# data['BIRTH_DATE'] = (np.datetime64('2018-01-01') + data['DAYS_BIRTH'].astype(np.dtype('timedelta64[D]'))).astype(str)\n",
        "# data['EMP_DATE'] = (np.datetime64('2018-01-01') + np.clip(data['DAYS_EMPLOYED'], None, 0).astype(np.dtype('timedelta64[D]'))\n",
        "#                     ).astype(str)\n",
        "\n",
        "# data['constant'] = 1\n",
        "# data['allnan'] = np.nan\n",
        "\n",
        "# data['report_dt'] = np.datetime64('2018-01-01')\n",
        "\n",
        "data.drop(['compiller', 'version', 'compiler_option', 'name_hash'], axis=1, inplace=True)\n",
        "data.head()"
      ]
    },
    {
      "cell_type": "code",
      "source": [
        "data.shape"
      ],
      "metadata": {
        "colab": {
          "base_uri": "https://localhost:8080/"
        },
        "id": "OFkJqqCffWAf",
        "outputId": "defbf0e8-7098-484d-e6a0-884fe2d96dd9"
      },
      "execution_count": null,
      "outputs": [
        {
          "output_type": "execute_result",
          "data": {
            "text/plain": [
              "(14437, 9)"
            ]
          },
          "metadata": {},
          "execution_count": 121
        }
      ]
    },
    {
      "cell_type": "markdown",
      "source": [
        "Class encoding"
      ],
      "metadata": {
        "id": "CgfegFhlfo_I"
      }
    },
    {
      "cell_type": "code",
      "source": [
        "!pip install --upgrade pandas"
      ],
      "metadata": {
        "colab": {
          "base_uri": "https://localhost:8080/"
        },
        "id": "NjxFpmBBhYGT",
        "outputId": "f0e007a0-58c9-42e7-edc2-aefb1a2f36a1"
      },
      "execution_count": null,
      "outputs": [
        {
          "output_type": "stream",
          "name": "stdout",
          "text": [
            "Looking in indexes: https://pypi.org/simple, https://us-python.pkg.dev/colab-wheels/public/simple/\n",
            "Requirement already satisfied: pandas in /usr/local/lib/python3.8/dist-packages (1.3.5)\n",
            "Collecting pandas\n",
            "  Downloading pandas-1.5.3-cp38-cp38-manylinux_2_17_x86_64.manylinux2014_x86_64.whl (12.2 MB)\n",
            "\u001b[2K     \u001b[90m━━━━━━━━━━━━━━━━━━━━━━━━━━━━━━━━━━━━━━━━\u001b[0m \u001b[32m12.2/12.2 MB\u001b[0m \u001b[31m39.0 MB/s\u001b[0m eta \u001b[36m0:00:00\u001b[0m\n",
            "\u001b[?25hRequirement already satisfied: numpy>=1.20.3 in /usr/local/lib/python3.8/dist-packages (from pandas) (1.22.4)\n",
            "Requirement already satisfied: python-dateutil>=2.8.1 in /usr/local/lib/python3.8/dist-packages (from pandas) (2.8.2)\n",
            "Requirement already satisfied: pytz>=2020.1 in /usr/local/lib/python3.8/dist-packages (from pandas) (2022.7.1)\n",
            "Requirement already satisfied: six>=1.5 in /usr/local/lib/python3.8/dist-packages (from python-dateutil>=2.8.1->pandas) (1.15.0)\n",
            "Installing collected packages: pandas\n",
            "  Attempting uninstall: pandas\n",
            "    Found existing installation: pandas 1.3.5\n",
            "    Uninstalling pandas-1.3.5:\n",
            "      Successfully uninstalled pandas-1.3.5\n",
            "\u001b[31mERROR: pip's dependency resolver does not currently take into account all the packages that are installed. This behaviour is the source of the following dependency conflicts.\n",
            "lightautoml 0.3.7.3 requires pandas<=1.4.3; python_version >= \"3.8\", but you have pandas 1.5.3 which is incompatible.\u001b[0m\u001b[31m\n",
            "\u001b[0mSuccessfully installed pandas-1.5.3\n"
          ]
        }
      ]
    },
    {
      "cell_type": "code",
      "source": [
        "le = LabelEncoder()\n",
        "le.fit(data[TARGET_NAME] )\n",
        "data[TARGET_NAME] = le.transform(data[TARGET_NAME] )"
      ],
      "metadata": {
        "id": "pa4XsuHkfs9-"
      },
      "execution_count": null,
      "outputs": []
    },
    {
      "cell_type": "markdown",
      "source": [
        "Add  TFIDF data in table format. But LAMA must can do it. Skeep in next time:"
      ],
      "metadata": {
        "id": "YeO1tU54zMbH"
      }
    },
    {
      "cell_type": "code",
      "source": [
        "from sklearn.feature_extraction.text import TfidfVectorizer\n",
        "\n",
        "v = TfidfVectorizer()\n",
        "x = v.fit_transform(data['func_body'])\n",
        "sub_data_TFIDF = pd.DataFrame(x.toarray(), columns=v.get_feature_names_out())\n",
        "sub_data_TFIDF.head()"
      ],
      "metadata": {
        "colab": {
          "base_uri": "https://localhost:8080/",
          "height": 279
        },
        "id": "N7uhLJWvzLbK",
        "outputId": "effc34b9-3cb4-4c4f-f919-738a4fb93b0a"
      },
      "execution_count": null,
      "outputs": [
        {
          "output_type": "execute_result",
          "data": {
            "text/plain": [
              "   abcdefghijklmnopqrstuvwxyz  adc       add      addr  addsd  addss  afcn  \\\n",
              "0                         0.0  0.0  0.150963  0.242271    0.0    0.0   0.0   \n",
              "1                         0.0  0.0  0.060192  0.223383    0.0    0.0   0.0   \n",
              "2                         0.0  0.0  0.048827  0.411385    0.0    0.0   0.0   \n",
              "3                         0.0  0.0  0.031130  0.474605    0.0    0.0   0.0   \n",
              "4                         0.0  0.0  0.065743  0.316517    0.0    0.0   0.0   \n",
              "\n",
              "    ah        al  alarm  ...  ymm1  ymm2  ymm3  ymm4  ymm5  ymm6  ymm7  ymm8  \\\n",
              "0  0.0  0.139285    0.0  ...   0.0   0.0   0.0   0.0   0.0   0.0   0.0   0.0   \n",
              "1  0.0  0.000000    0.0  ...   0.0   0.0   0.0   0.0   0.0   0.0   0.0   0.0   \n",
              "2  0.0  0.000000    0.0  ...   0.0   0.0   0.0   0.0   0.0   0.0   0.0   0.0   \n",
              "3  0.0  0.000000    0.0  ...   0.0   0.0   0.0   0.0   0.0   0.0   0.0   0.0   \n",
              "4  0.0  0.000000    0.0  ...   0.0   0.0   0.0   0.0   0.0   0.0   0.0   0.0   \n",
              "\n",
              "   ymm9  ymmword  \n",
              "0   0.0      0.0  \n",
              "1   0.0      0.0  \n",
              "2   0.0      0.0  \n",
              "3   0.0      0.0  \n",
              "4   0.0      0.0  \n",
              "\n",
              "[5 rows x 683 columns]"
            ],
            "text/html": [
              "\n",
              "  <div id=\"df-fad91ec2-42cc-46ce-b23d-003447353544\">\n",
              "    <div class=\"colab-df-container\">\n",
              "      <div>\n",
              "<style scoped>\n",
              "    .dataframe tbody tr th:only-of-type {\n",
              "        vertical-align: middle;\n",
              "    }\n",
              "\n",
              "    .dataframe tbody tr th {\n",
              "        vertical-align: top;\n",
              "    }\n",
              "\n",
              "    .dataframe thead th {\n",
              "        text-align: right;\n",
              "    }\n",
              "</style>\n",
              "<table border=\"1\" class=\"dataframe\">\n",
              "  <thead>\n",
              "    <tr style=\"text-align: right;\">\n",
              "      <th></th>\n",
              "      <th>abcdefghijklmnopqrstuvwxyz</th>\n",
              "      <th>adc</th>\n",
              "      <th>add</th>\n",
              "      <th>addr</th>\n",
              "      <th>addsd</th>\n",
              "      <th>addss</th>\n",
              "      <th>afcn</th>\n",
              "      <th>ah</th>\n",
              "      <th>al</th>\n",
              "      <th>alarm</th>\n",
              "      <th>...</th>\n",
              "      <th>ymm1</th>\n",
              "      <th>ymm2</th>\n",
              "      <th>ymm3</th>\n",
              "      <th>ymm4</th>\n",
              "      <th>ymm5</th>\n",
              "      <th>ymm6</th>\n",
              "      <th>ymm7</th>\n",
              "      <th>ymm8</th>\n",
              "      <th>ymm9</th>\n",
              "      <th>ymmword</th>\n",
              "    </tr>\n",
              "  </thead>\n",
              "  <tbody>\n",
              "    <tr>\n",
              "      <th>0</th>\n",
              "      <td>0.0</td>\n",
              "      <td>0.0</td>\n",
              "      <td>0.150963</td>\n",
              "      <td>0.242271</td>\n",
              "      <td>0.0</td>\n",
              "      <td>0.0</td>\n",
              "      <td>0.0</td>\n",
              "      <td>0.0</td>\n",
              "      <td>0.139285</td>\n",
              "      <td>0.0</td>\n",
              "      <td>...</td>\n",
              "      <td>0.0</td>\n",
              "      <td>0.0</td>\n",
              "      <td>0.0</td>\n",
              "      <td>0.0</td>\n",
              "      <td>0.0</td>\n",
              "      <td>0.0</td>\n",
              "      <td>0.0</td>\n",
              "      <td>0.0</td>\n",
              "      <td>0.0</td>\n",
              "      <td>0.0</td>\n",
              "    </tr>\n",
              "    <tr>\n",
              "      <th>1</th>\n",
              "      <td>0.0</td>\n",
              "      <td>0.0</td>\n",
              "      <td>0.060192</td>\n",
              "      <td>0.223383</td>\n",
              "      <td>0.0</td>\n",
              "      <td>0.0</td>\n",
              "      <td>0.0</td>\n",
              "      <td>0.0</td>\n",
              "      <td>0.000000</td>\n",
              "      <td>0.0</td>\n",
              "      <td>...</td>\n",
              "      <td>0.0</td>\n",
              "      <td>0.0</td>\n",
              "      <td>0.0</td>\n",
              "      <td>0.0</td>\n",
              "      <td>0.0</td>\n",
              "      <td>0.0</td>\n",
              "      <td>0.0</td>\n",
              "      <td>0.0</td>\n",
              "      <td>0.0</td>\n",
              "      <td>0.0</td>\n",
              "    </tr>\n",
              "    <tr>\n",
              "      <th>2</th>\n",
              "      <td>0.0</td>\n",
              "      <td>0.0</td>\n",
              "      <td>0.048827</td>\n",
              "      <td>0.411385</td>\n",
              "      <td>0.0</td>\n",
              "      <td>0.0</td>\n",
              "      <td>0.0</td>\n",
              "      <td>0.0</td>\n",
              "      <td>0.000000</td>\n",
              "      <td>0.0</td>\n",
              "      <td>...</td>\n",
              "      <td>0.0</td>\n",
              "      <td>0.0</td>\n",
              "      <td>0.0</td>\n",
              "      <td>0.0</td>\n",
              "      <td>0.0</td>\n",
              "      <td>0.0</td>\n",
              "      <td>0.0</td>\n",
              "      <td>0.0</td>\n",
              "      <td>0.0</td>\n",
              "      <td>0.0</td>\n",
              "    </tr>\n",
              "    <tr>\n",
              "      <th>3</th>\n",
              "      <td>0.0</td>\n",
              "      <td>0.0</td>\n",
              "      <td>0.031130</td>\n",
              "      <td>0.474605</td>\n",
              "      <td>0.0</td>\n",
              "      <td>0.0</td>\n",
              "      <td>0.0</td>\n",
              "      <td>0.0</td>\n",
              "      <td>0.000000</td>\n",
              "      <td>0.0</td>\n",
              "      <td>...</td>\n",
              "      <td>0.0</td>\n",
              "      <td>0.0</td>\n",
              "      <td>0.0</td>\n",
              "      <td>0.0</td>\n",
              "      <td>0.0</td>\n",
              "      <td>0.0</td>\n",
              "      <td>0.0</td>\n",
              "      <td>0.0</td>\n",
              "      <td>0.0</td>\n",
              "      <td>0.0</td>\n",
              "    </tr>\n",
              "    <tr>\n",
              "      <th>4</th>\n",
              "      <td>0.0</td>\n",
              "      <td>0.0</td>\n",
              "      <td>0.065743</td>\n",
              "      <td>0.316517</td>\n",
              "      <td>0.0</td>\n",
              "      <td>0.0</td>\n",
              "      <td>0.0</td>\n",
              "      <td>0.0</td>\n",
              "      <td>0.000000</td>\n",
              "      <td>0.0</td>\n",
              "      <td>...</td>\n",
              "      <td>0.0</td>\n",
              "      <td>0.0</td>\n",
              "      <td>0.0</td>\n",
              "      <td>0.0</td>\n",
              "      <td>0.0</td>\n",
              "      <td>0.0</td>\n",
              "      <td>0.0</td>\n",
              "      <td>0.0</td>\n",
              "      <td>0.0</td>\n",
              "      <td>0.0</td>\n",
              "    </tr>\n",
              "  </tbody>\n",
              "</table>\n",
              "<p>5 rows × 683 columns</p>\n",
              "</div>\n",
              "      <button class=\"colab-df-convert\" onclick=\"convertToInteractive('df-fad91ec2-42cc-46ce-b23d-003447353544')\"\n",
              "              title=\"Convert this dataframe to an interactive table.\"\n",
              "              style=\"display:none;\">\n",
              "        \n",
              "  <svg xmlns=\"http://www.w3.org/2000/svg\" height=\"24px\"viewBox=\"0 0 24 24\"\n",
              "       width=\"24px\">\n",
              "    <path d=\"M0 0h24v24H0V0z\" fill=\"none\"/>\n",
              "    <path d=\"M18.56 5.44l.94 2.06.94-2.06 2.06-.94-2.06-.94-.94-2.06-.94 2.06-2.06.94zm-11 1L8.5 8.5l.94-2.06 2.06-.94-2.06-.94L8.5 2.5l-.94 2.06-2.06.94zm10 10l.94 2.06.94-2.06 2.06-.94-2.06-.94-.94-2.06-.94 2.06-2.06.94z\"/><path d=\"M17.41 7.96l-1.37-1.37c-.4-.4-.92-.59-1.43-.59-.52 0-1.04.2-1.43.59L10.3 9.45l-7.72 7.72c-.78.78-.78 2.05 0 2.83L4 21.41c.39.39.9.59 1.41.59.51 0 1.02-.2 1.41-.59l7.78-7.78 2.81-2.81c.8-.78.8-2.07 0-2.86zM5.41 20L4 18.59l7.72-7.72 1.47 1.35L5.41 20z\"/>\n",
              "  </svg>\n",
              "      </button>\n",
              "      \n",
              "  <style>\n",
              "    .colab-df-container {\n",
              "      display:flex;\n",
              "      flex-wrap:wrap;\n",
              "      gap: 12px;\n",
              "    }\n",
              "\n",
              "    .colab-df-convert {\n",
              "      background-color: #E8F0FE;\n",
              "      border: none;\n",
              "      border-radius: 50%;\n",
              "      cursor: pointer;\n",
              "      display: none;\n",
              "      fill: #1967D2;\n",
              "      height: 32px;\n",
              "      padding: 0 0 0 0;\n",
              "      width: 32px;\n",
              "    }\n",
              "\n",
              "    .colab-df-convert:hover {\n",
              "      background-color: #E2EBFA;\n",
              "      box-shadow: 0px 1px 2px rgba(60, 64, 67, 0.3), 0px 1px 3px 1px rgba(60, 64, 67, 0.15);\n",
              "      fill: #174EA6;\n",
              "    }\n",
              "\n",
              "    [theme=dark] .colab-df-convert {\n",
              "      background-color: #3B4455;\n",
              "      fill: #D2E3FC;\n",
              "    }\n",
              "\n",
              "    [theme=dark] .colab-df-convert:hover {\n",
              "      background-color: #434B5C;\n",
              "      box-shadow: 0px 1px 3px 1px rgba(0, 0, 0, 0.15);\n",
              "      filter: drop-shadow(0px 1px 2px rgba(0, 0, 0, 0.3));\n",
              "      fill: #FFFFFF;\n",
              "    }\n",
              "  </style>\n",
              "\n",
              "      <script>\n",
              "        const buttonEl =\n",
              "          document.querySelector('#df-fad91ec2-42cc-46ce-b23d-003447353544 button.colab-df-convert');\n",
              "        buttonEl.style.display =\n",
              "          google.colab.kernel.accessAllowed ? 'block' : 'none';\n",
              "\n",
              "        async function convertToInteractive(key) {\n",
              "          const element = document.querySelector('#df-fad91ec2-42cc-46ce-b23d-003447353544');\n",
              "          const dataTable =\n",
              "            await google.colab.kernel.invokeFunction('convertToInteractive',\n",
              "                                                     [key], {});\n",
              "          if (!dataTable) return;\n",
              "\n",
              "          const docLinkHtml = 'Like what you see? Visit the ' +\n",
              "            '<a target=\"_blank\" href=https://colab.research.google.com/notebooks/data_table.ipynb>data table notebook</a>'\n",
              "            + ' to learn more about interactive tables.';\n",
              "          element.innerHTML = '';\n",
              "          dataTable['output_type'] = 'display_data';\n",
              "          await google.colab.output.renderOutput(dataTable, element);\n",
              "          const docLink = document.createElement('div');\n",
              "          docLink.innerHTML = docLinkHtml;\n",
              "          element.appendChild(docLink);\n",
              "        }\n",
              "      </script>\n",
              "    </div>\n",
              "  </div>\n",
              "  "
            ]
          },
          "metadata": {},
          "execution_count": 123
        }
      ]
    },
    {
      "cell_type": "markdown",
      "source": [
        "**Concat**. Or skip if skip"
      ],
      "metadata": {
        "id": "tHYAu2wF0ROp"
      }
    },
    {
      "cell_type": "code",
      "source": [
        "\n",
        "data.drop(['func_body'], axis=1, inplace=True)\n",
        "data = pd.concat([data, sub_data_TFIDF], axis=1)\n"
      ],
      "metadata": {
        "id": "9qTAzOxl0RaS"
      },
      "execution_count": null,
      "outputs": []
    },
    {
      "cell_type": "markdown",
      "metadata": {
        "id": "FWwEUumsr82U"
      },
      "source": [
        "### Step 7. (Optional) Data splitting for train-test "
      ]
    },
    {
      "cell_type": "markdown",
      "metadata": {
        "id": "A4bUbFmdr82U"
      },
      "source": [
        "Block below can be omitted if you are going to train model only or you have specific train and test files:"
      ]
    },
    {
      "cell_type": "code",
      "execution_count": null,
      "metadata": {
        "id": "-dPjHIgqr82U",
        "outputId": "b2fb2ac3-ab88-4107-8386-8ff5070caf99",
        "colab": {
          "base_uri": "https://localhost:8080/"
        }
      },
      "outputs": [
        {
          "output_type": "stream",
          "name": "stdout",
          "text": [
            "Data splitted. Parts sizes: train_data = (11549, 691), test_data = (2888, 691)\n",
            "CPU times: user 71.7 ms, sys: 147 ms, total: 219 ms\n",
            "Wall time: 220 ms\n"
          ]
        }
      ],
      "source": [
        "%%time\n",
        "\n",
        "train_data, test_data = train_test_split(data, \n",
        "                                         test_size=TEST_SIZE, \n",
        "                                         stratify=data[TARGET_NAME], \n",
        "                                         random_state=RANDOM_STATE)\n",
        "print('Data splitted. Parts sizes: train_data = {}, test_data = {}'\n",
        "              .format(train_data.shape, test_data.shape))"
      ]
    },
    {
      "cell_type": "code",
      "execution_count": null,
      "metadata": {
        "id": "vhvKC8YBr82U",
        "outputId": "8f7cccb7-4261-495a-a9d2-3b694d85cda2",
        "colab": {
          "base_uri": "https://localhost:8080/",
          "height": 299
        }
      },
      "outputs": [
        {
          "output_type": "execute_result",
          "data": {
            "text/plain": [
              "       instructions_count  vcount  diameter  girth  radius  \\\n",
              "6177                   56      10         4    4.0       0   \n",
              "3433                   38       7         4    3.0       3   \n",
              "3501                   24       4         2    4.0       0   \n",
              "7928                  105      24         9    3.0       0   \n",
              "14302                   0       0         0    0.0       0   \n",
              "\n",
              "       average_path_length  transitivity_avglocal_undirected  func_class  \\\n",
              "6177              1.933333                          0.000000           4   \n",
              "3433              2.064516                          0.519048           7   \n",
              "3501              1.333333                          0.000000           5   \n",
              "7928              3.855799                          0.384058           5   \n",
              "14302             0.000000                          0.000000           3   \n",
              "\n",
              "       abcdefghijklmnopqrstuvwxyz  adc  ...  ymm1  ymm2  ymm3  ymm4  ymm5  \\\n",
              "6177                          0.0  0.0  ...   0.0   0.0   0.0   0.0   0.0   \n",
              "3433                          0.0  0.0  ...   0.0   0.0   0.0   0.0   0.0   \n",
              "3501                          0.0  0.0  ...   0.0   0.0   0.0   0.0   0.0   \n",
              "7928                          0.0  0.0  ...   0.0   0.0   0.0   0.0   0.0   \n",
              "14302                         0.0  0.0  ...   0.0   0.0   0.0   0.0   0.0   \n",
              "\n",
              "       ymm6  ymm7  ymm8  ymm9  ymmword  \n",
              "6177    0.0   0.0   0.0   0.0      0.0  \n",
              "3433    0.0   0.0   0.0   0.0      0.0  \n",
              "3501    0.0   0.0   0.0   0.0      0.0  \n",
              "7928    0.0   0.0   0.0   0.0      0.0  \n",
              "14302   0.0   0.0   0.0   0.0      0.0  \n",
              "\n",
              "[5 rows x 691 columns]"
            ],
            "text/html": [
              "\n",
              "  <div id=\"df-c61353a6-3636-4d4b-9eda-ab54d8a71cd2\">\n",
              "    <div class=\"colab-df-container\">\n",
              "      <div>\n",
              "<style scoped>\n",
              "    .dataframe tbody tr th:only-of-type {\n",
              "        vertical-align: middle;\n",
              "    }\n",
              "\n",
              "    .dataframe tbody tr th {\n",
              "        vertical-align: top;\n",
              "    }\n",
              "\n",
              "    .dataframe thead th {\n",
              "        text-align: right;\n",
              "    }\n",
              "</style>\n",
              "<table border=\"1\" class=\"dataframe\">\n",
              "  <thead>\n",
              "    <tr style=\"text-align: right;\">\n",
              "      <th></th>\n",
              "      <th>instructions_count</th>\n",
              "      <th>vcount</th>\n",
              "      <th>diameter</th>\n",
              "      <th>girth</th>\n",
              "      <th>radius</th>\n",
              "      <th>average_path_length</th>\n",
              "      <th>transitivity_avglocal_undirected</th>\n",
              "      <th>func_class</th>\n",
              "      <th>abcdefghijklmnopqrstuvwxyz</th>\n",
              "      <th>adc</th>\n",
              "      <th>...</th>\n",
              "      <th>ymm1</th>\n",
              "      <th>ymm2</th>\n",
              "      <th>ymm3</th>\n",
              "      <th>ymm4</th>\n",
              "      <th>ymm5</th>\n",
              "      <th>ymm6</th>\n",
              "      <th>ymm7</th>\n",
              "      <th>ymm8</th>\n",
              "      <th>ymm9</th>\n",
              "      <th>ymmword</th>\n",
              "    </tr>\n",
              "  </thead>\n",
              "  <tbody>\n",
              "    <tr>\n",
              "      <th>6177</th>\n",
              "      <td>56</td>\n",
              "      <td>10</td>\n",
              "      <td>4</td>\n",
              "      <td>4.0</td>\n",
              "      <td>0</td>\n",
              "      <td>1.933333</td>\n",
              "      <td>0.000000</td>\n",
              "      <td>4</td>\n",
              "      <td>0.0</td>\n",
              "      <td>0.0</td>\n",
              "      <td>...</td>\n",
              "      <td>0.0</td>\n",
              "      <td>0.0</td>\n",
              "      <td>0.0</td>\n",
              "      <td>0.0</td>\n",
              "      <td>0.0</td>\n",
              "      <td>0.0</td>\n",
              "      <td>0.0</td>\n",
              "      <td>0.0</td>\n",
              "      <td>0.0</td>\n",
              "      <td>0.0</td>\n",
              "    </tr>\n",
              "    <tr>\n",
              "      <th>3433</th>\n",
              "      <td>38</td>\n",
              "      <td>7</td>\n",
              "      <td>4</td>\n",
              "      <td>3.0</td>\n",
              "      <td>3</td>\n",
              "      <td>2.064516</td>\n",
              "      <td>0.519048</td>\n",
              "      <td>7</td>\n",
              "      <td>0.0</td>\n",
              "      <td>0.0</td>\n",
              "      <td>...</td>\n",
              "      <td>0.0</td>\n",
              "      <td>0.0</td>\n",
              "      <td>0.0</td>\n",
              "      <td>0.0</td>\n",
              "      <td>0.0</td>\n",
              "      <td>0.0</td>\n",
              "      <td>0.0</td>\n",
              "      <td>0.0</td>\n",
              "      <td>0.0</td>\n",
              "      <td>0.0</td>\n",
              "    </tr>\n",
              "    <tr>\n",
              "      <th>3501</th>\n",
              "      <td>24</td>\n",
              "      <td>4</td>\n",
              "      <td>2</td>\n",
              "      <td>4.0</td>\n",
              "      <td>0</td>\n",
              "      <td>1.333333</td>\n",
              "      <td>0.000000</td>\n",
              "      <td>5</td>\n",
              "      <td>0.0</td>\n",
              "      <td>0.0</td>\n",
              "      <td>...</td>\n",
              "      <td>0.0</td>\n",
              "      <td>0.0</td>\n",
              "      <td>0.0</td>\n",
              "      <td>0.0</td>\n",
              "      <td>0.0</td>\n",
              "      <td>0.0</td>\n",
              "      <td>0.0</td>\n",
              "      <td>0.0</td>\n",
              "      <td>0.0</td>\n",
              "      <td>0.0</td>\n",
              "    </tr>\n",
              "    <tr>\n",
              "      <th>7928</th>\n",
              "      <td>105</td>\n",
              "      <td>24</td>\n",
              "      <td>9</td>\n",
              "      <td>3.0</td>\n",
              "      <td>0</td>\n",
              "      <td>3.855799</td>\n",
              "      <td>0.384058</td>\n",
              "      <td>5</td>\n",
              "      <td>0.0</td>\n",
              "      <td>0.0</td>\n",
              "      <td>...</td>\n",
              "      <td>0.0</td>\n",
              "      <td>0.0</td>\n",
              "      <td>0.0</td>\n",
              "      <td>0.0</td>\n",
              "      <td>0.0</td>\n",
              "      <td>0.0</td>\n",
              "      <td>0.0</td>\n",
              "      <td>0.0</td>\n",
              "      <td>0.0</td>\n",
              "      <td>0.0</td>\n",
              "    </tr>\n",
              "    <tr>\n",
              "      <th>14302</th>\n",
              "      <td>0</td>\n",
              "      <td>0</td>\n",
              "      <td>0</td>\n",
              "      <td>0.0</td>\n",
              "      <td>0</td>\n",
              "      <td>0.000000</td>\n",
              "      <td>0.000000</td>\n",
              "      <td>3</td>\n",
              "      <td>0.0</td>\n",
              "      <td>0.0</td>\n",
              "      <td>...</td>\n",
              "      <td>0.0</td>\n",
              "      <td>0.0</td>\n",
              "      <td>0.0</td>\n",
              "      <td>0.0</td>\n",
              "      <td>0.0</td>\n",
              "      <td>0.0</td>\n",
              "      <td>0.0</td>\n",
              "      <td>0.0</td>\n",
              "      <td>0.0</td>\n",
              "      <td>0.0</td>\n",
              "    </tr>\n",
              "  </tbody>\n",
              "</table>\n",
              "<p>5 rows × 691 columns</p>\n",
              "</div>\n",
              "      <button class=\"colab-df-convert\" onclick=\"convertToInteractive('df-c61353a6-3636-4d4b-9eda-ab54d8a71cd2')\"\n",
              "              title=\"Convert this dataframe to an interactive table.\"\n",
              "              style=\"display:none;\">\n",
              "        \n",
              "  <svg xmlns=\"http://www.w3.org/2000/svg\" height=\"24px\"viewBox=\"0 0 24 24\"\n",
              "       width=\"24px\">\n",
              "    <path d=\"M0 0h24v24H0V0z\" fill=\"none\"/>\n",
              "    <path d=\"M18.56 5.44l.94 2.06.94-2.06 2.06-.94-2.06-.94-.94-2.06-.94 2.06-2.06.94zm-11 1L8.5 8.5l.94-2.06 2.06-.94-2.06-.94L8.5 2.5l-.94 2.06-2.06.94zm10 10l.94 2.06.94-2.06 2.06-.94-2.06-.94-.94-2.06-.94 2.06-2.06.94z\"/><path d=\"M17.41 7.96l-1.37-1.37c-.4-.4-.92-.59-1.43-.59-.52 0-1.04.2-1.43.59L10.3 9.45l-7.72 7.72c-.78.78-.78 2.05 0 2.83L4 21.41c.39.39.9.59 1.41.59.51 0 1.02-.2 1.41-.59l7.78-7.78 2.81-2.81c.8-.78.8-2.07 0-2.86zM5.41 20L4 18.59l7.72-7.72 1.47 1.35L5.41 20z\"/>\n",
              "  </svg>\n",
              "      </button>\n",
              "      \n",
              "  <style>\n",
              "    .colab-df-container {\n",
              "      display:flex;\n",
              "      flex-wrap:wrap;\n",
              "      gap: 12px;\n",
              "    }\n",
              "\n",
              "    .colab-df-convert {\n",
              "      background-color: #E8F0FE;\n",
              "      border: none;\n",
              "      border-radius: 50%;\n",
              "      cursor: pointer;\n",
              "      display: none;\n",
              "      fill: #1967D2;\n",
              "      height: 32px;\n",
              "      padding: 0 0 0 0;\n",
              "      width: 32px;\n",
              "    }\n",
              "\n",
              "    .colab-df-convert:hover {\n",
              "      background-color: #E2EBFA;\n",
              "      box-shadow: 0px 1px 2px rgba(60, 64, 67, 0.3), 0px 1px 3px 1px rgba(60, 64, 67, 0.15);\n",
              "      fill: #174EA6;\n",
              "    }\n",
              "\n",
              "    [theme=dark] .colab-df-convert {\n",
              "      background-color: #3B4455;\n",
              "      fill: #D2E3FC;\n",
              "    }\n",
              "\n",
              "    [theme=dark] .colab-df-convert:hover {\n",
              "      background-color: #434B5C;\n",
              "      box-shadow: 0px 1px 3px 1px rgba(0, 0, 0, 0.15);\n",
              "      filter: drop-shadow(0px 1px 2px rgba(0, 0, 0, 0.3));\n",
              "      fill: #FFFFFF;\n",
              "    }\n",
              "  </style>\n",
              "\n",
              "      <script>\n",
              "        const buttonEl =\n",
              "          document.querySelector('#df-c61353a6-3636-4d4b-9eda-ab54d8a71cd2 button.colab-df-convert');\n",
              "        buttonEl.style.display =\n",
              "          google.colab.kernel.accessAllowed ? 'block' : 'none';\n",
              "\n",
              "        async function convertToInteractive(key) {\n",
              "          const element = document.querySelector('#df-c61353a6-3636-4d4b-9eda-ab54d8a71cd2');\n",
              "          const dataTable =\n",
              "            await google.colab.kernel.invokeFunction('convertToInteractive',\n",
              "                                                     [key], {});\n",
              "          if (!dataTable) return;\n",
              "\n",
              "          const docLinkHtml = 'Like what you see? Visit the ' +\n",
              "            '<a target=\"_blank\" href=https://colab.research.google.com/notebooks/data_table.ipynb>data table notebook</a>'\n",
              "            + ' to learn more about interactive tables.';\n",
              "          element.innerHTML = '';\n",
              "          dataTable['output_type'] = 'display_data';\n",
              "          await google.colab.output.renderOutput(dataTable, element);\n",
              "          const docLink = document.createElement('div');\n",
              "          docLink.innerHTML = docLinkHtml;\n",
              "          element.appendChild(docLink);\n",
              "        }\n",
              "      </script>\n",
              "    </div>\n",
              "  </div>\n",
              "  "
            ]
          },
          "metadata": {},
          "execution_count": 126
        }
      ],
      "source": [
        "train_data.head()"
      ]
    },
    {
      "cell_type": "markdown",
      "metadata": {
        "id": "_uc1clx9r82V"
      },
      "source": [
        "## AutoML creation"
      ]
    },
    {
      "cell_type": "markdown",
      "metadata": {
        "id": "FzxVpGmUr82V"
      },
      "source": [
        "![AutoML pipeline for this task](https://github.com/sberbank-ai-lab/LightAutoML/blob/master/imgs/tutorial_1_pipeline.png?raw=1)"
      ]
    },
    {
      "cell_type": "markdown",
      "metadata": {
        "id": "Ibp4cIAYr82V"
      },
      "source": [
        "### Step 1. Create Task and PandasReader"
      ]
    },
    {
      "cell_type": "code",
      "execution_count": null,
      "metadata": {
        "id": "utcOGq2tr82V",
        "outputId": "5ff8485e-da94-4ec9-874a-5d73350bbf6d",
        "colab": {
          "base_uri": "https://localhost:8080/"
        }
      },
      "outputs": [
        {
          "output_type": "stream",
          "name": "stderr",
          "text": [
            "INFO2:lightautoml.tasks.base:sklearn doesn't support in general case f1 and will not be used.\n",
            "INFO2:lightautoml.tasks.base:cb doesn't support in general case f1 and will not be used.\n"
          ]
        },
        {
          "output_type": "stream",
          "name": "stdout",
          "text": [
            "CPU times: user 29 ms, sys: 0 ns, total: 29 ms\n",
            "Wall time: 56.4 ms\n"
          ]
        }
      ],
      "source": [
        "%%time\n",
        "\n",
        "task = Task(name = 'multiclass',loss = \"f1\",metric = 'auc_mu')\n",
        "reader = PandasToPandasReader(task, cv=N_FOLDS, random_state=RANDOM_STATE)"
      ]
    },
    {
      "cell_type": "markdown",
      "metadata": {
        "id": "7qvp7h7fr82W"
      },
      "source": [
        "### Step 2. Create feature selector (if necessary) "
      ]
    },
    {
      "cell_type": "code",
      "execution_count": null,
      "metadata": {
        "id": "-5M6WiSbr82W",
        "outputId": "a4302a76-6904-4a7a-c20d-a857e1406d4b",
        "colab": {
          "base_uri": "https://localhost:8080/"
        }
      },
      "outputs": [
        {
          "output_type": "stream",
          "name": "stdout",
          "text": [
            "CPU times: user 654 µs, sys: 0 ns, total: 654 µs\n",
            "Wall time: 669 µs\n"
          ]
        }
      ],
      "source": [
        "%%time\n",
        "\n",
        "model0 = BoostLGBM(\n",
        "    default_params={'learning_rate': 0.05, 'num_leaves': 64, 'seed': 42, 'num_threads': N_THREADS}\n",
        ")\n",
        "pipe0 = LGBSimpleFeatures()\n",
        "mbie = ModelBasedImportanceEstimator()\n",
        "selector = ImportanceCutoffSelector(pipe0, model0, mbie, cutoff=0)"
      ]
    },
    {
      "cell_type": "markdown",
      "metadata": {
        "id": "fHufuxwFr82W"
      },
      "source": [
        "### Step 3.1. Create 1st level ML pipeline for AutoML "
      ]
    },
    {
      "cell_type": "markdown",
      "metadata": {
        "id": "b410poGtr82X"
      },
      "source": [
        "Our first level ML pipeline:\n",
        "- Simple features for gradient boosting built on selected features (using step 2) \n",
        "- 2 different models:\n",
        "    * LightGBM with params tuning (using OptunaTuner)\n",
        "    * LightGBM with heuristic params\n"
      ]
    },
    {
      "cell_type": "code",
      "execution_count": null,
      "metadata": {
        "id": "sLxQQNVSr82X",
        "outputId": "fe7056c3-5141-46a6-b60f-65742aeafdea",
        "colab": {
          "base_uri": "https://localhost:8080/"
        }
      },
      "outputs": [
        {
          "output_type": "stream",
          "name": "stdout",
          "text": [
            "CPU times: user 137 µs, sys: 34 µs, total: 171 µs\n",
            "Wall time: 177 µs\n"
          ]
        }
      ],
      "source": [
        "%%time \n",
        "\n",
        "pipe = LGBSimpleFeatures()\n",
        "\n",
        "params_tuner1 = OptunaTuner(n_trials=20, timeout=30) # stop after 20 iterations or after 30 seconds \n",
        "model1 = BoostLGBM(\n",
        "    default_params={'learning_rate': 0.05, 'num_leaves': 128, 'seed': 1, 'num_threads': N_THREADS}\n",
        ")\n",
        "model2 = BoostLGBM(\n",
        "    default_params={'learning_rate': 0.025, 'num_leaves': 64, 'seed': 2, 'num_threads': N_THREADS}\n",
        ")\n",
        "\n",
        "pipeline_lvl1 = MLPipeline([\n",
        "    (model1, params_tuner1),\n",
        "    model2\n",
        "], pre_selection=selector, features_pipeline=pipe, post_selection=None)"
      ]
    },
    {
      "cell_type": "markdown",
      "metadata": {
        "id": "PlKKPSq5r82X"
      },
      "source": [
        "### Step 3.2. Create 2nd level ML pipeline for AutoML "
      ]
    },
    {
      "cell_type": "markdown",
      "metadata": {
        "id": "PjPZy8m2r82X"
      },
      "source": [
        "Our second level ML pipeline:\n",
        "- Using simple features as well, but now it will be Out-Of-Fold (OOF) predictions of algos from 1st level\n",
        "- Only one LGBM model without params tuning\n",
        "- Without feature selection on this stage because we want to use all OOFs here"
      ]
    },
    {
      "cell_type": "code",
      "execution_count": null,
      "metadata": {
        "id": "9ymk8XeMr82Y",
        "outputId": "9d90d1fc-3861-4f7c-e86f-2bf210bddd20",
        "colab": {
          "base_uri": "https://localhost:8080/"
        }
      },
      "outputs": [
        {
          "output_type": "stream",
          "name": "stdout",
          "text": [
            "CPU times: user 146 µs, sys: 0 ns, total: 146 µs\n",
            "Wall time: 154 µs\n"
          ]
        }
      ],
      "source": [
        "%%time\n",
        "\n",
        "pipe1 = LGBSimpleFeatures()\n",
        "\n",
        "model = BoostLGBM(\n",
        "    default_params={'learning_rate': 0.05, 'num_leaves': 64, 'max_bin': 1024, 'seed': 3, 'num_threads': N_THREADS},\n",
        "    freeze_defaults=True\n",
        ")\n",
        "\n",
        "pipeline_lvl2 = MLPipeline([model], pre_selection=None, features_pipeline=pipe1, post_selection=None)"
      ]
    },
    {
      "cell_type": "markdown",
      "metadata": {
        "id": "mKpleaMnr82Y"
      },
      "source": [
        "### Step 4. Create AutoML pipeline "
      ]
    },
    {
      "cell_type": "markdown",
      "metadata": {
        "id": "gKj9eyM0r82Y"
      },
      "source": [
        "AutoML pipeline consist of:\n",
        "- Reader for data preparation\n",
        "- First level ML pipeline (as built in step 3.1)\n",
        "- Second level ML pipeline (as built in step 3.2)\n",
        "- `Skip_conn = False` equals here \"not to use initial features on the second level pipeline\""
      ]
    },
    {
      "cell_type": "code",
      "execution_count": null,
      "metadata": {
        "id": "l-VmhQGer82Z",
        "outputId": "aff90eb3-3c4f-4f5b-cd9e-c73b98dabe97",
        "colab": {
          "base_uri": "https://localhost:8080/"
        }
      },
      "outputs": [
        {
          "output_type": "stream",
          "name": "stdout",
          "text": [
            "CPU times: user 81 µs, sys: 0 ns, total: 81 µs\n",
            "Wall time: 85.8 µs\n"
          ]
        }
      ],
      "source": [
        "%%time \n",
        "\n",
        "automl = AutoML(reader, [\n",
        "    [pipeline_lvl1],\n",
        "    [pipeline_lvl2],\n",
        "], skip_conn=False)"
      ]
    },
    {
      "cell_type": "markdown",
      "metadata": {
        "id": "iBfKFLsHr82Z"
      },
      "source": [
        "### Step 5. Train AutoML on loaded data "
      ]
    },
    {
      "cell_type": "markdown",
      "metadata": {
        "id": "BC4PYXXvr82Z"
      },
      "source": [
        "In cell below we train AutoML with target column `TARGET` to receive fitted model and OOF predictions:"
      ]
    },
    {
      "cell_type": "code",
      "execution_count": null,
      "metadata": {
        "id": "Xw0xvuFxr82Z",
        "outputId": "6b123399-dfc5-49d7-80a2-67c8bf780e43",
        "colab": {
          "base_uri": "https://localhost:8080/",
          "height": 1000
        }
      },
      "outputs": [
        {
          "output_type": "stream",
          "name": "stderr",
          "text": [
            "INFO:lightautoml.reader.base:\u001b[1mTrain data shape: (11549, 691)\u001b[0m\n",
            "\n",
            "INFO3:lightautoml.reader.base:Feats was rejected during automatic roles guess: []\n",
            "INFO:lightautoml.automl.base:Layer \u001b[1m1\u001b[0m train process start. Time left 9999999960.68 secs\n",
            "INFO2:lightautoml.ml_algo.utils:Model LightGBM failed during ml_algo.fit_predict call.\n",
            "\n",
            "axis 1 is out of bounds for array of dimension 1\n",
            "INFO3:lightautoml.ml_algo.utils:Traceback (most recent call last):\n",
            "  File \"/usr/local/lib/python3.8/dist-packages/lightautoml/ml_algo/utils.py\", line 66, in tune_and_fit_predict\n",
            "    preds = ml_algo.fit_predict(train_valid)\n",
            "  File \"/usr/local/lib/python3.8/dist-packages/lightautoml/ml_algo/base.py\", line 273, in fit_predict\n",
            "    model, pred = self.fit_predict_single_fold(train, valid)\n",
            "  File \"/usr/local/lib/python3.8/dist-packages/lightautoml/ml_algo/boost_lgbm.py\", line 255, in fit_predict_single_fold\n",
            "    model = lgb.train(\n",
            "  File \"/usr/local/lib/python3.8/dist-packages/lightgbm/engine.py\", line 256, in train\n",
            "    evaluation_result_list.extend(booster.eval_valid(feval))\n",
            "  File \"/usr/local/lib/python3.8/dist-packages/lightgbm/basic.py\", line 2888, in eval_valid\n",
            "    return [item for i in range(1, self.__num_dataset)\n",
            "  File \"/usr/local/lib/python3.8/dist-packages/lightgbm/basic.py\", line 2889, in <listcomp>\n",
            "    for item in self.__inner_eval(self.name_valid_sets[i - 1], i, feval)]\n",
            "  File \"/usr/local/lib/python3.8/dist-packages/lightgbm/basic.py\", line 3402, in __inner_eval\n",
            "    feval_ret = eval_function(self.__inner_predict(data_idx), cur_data)\n",
            "  File \"/usr/local/lib/python3.8/dist-packages/lightautoml/tasks/losses/lgb.py\", line 102, in __call__\n",
            "    label = self.bw_func(label)\n",
            "  File \"/usr/local/lib/python3.8/dist-packages/lightautoml/tasks/losses/lgb_custom.py\", line 21, in softmax_ax1\n",
            "    return softmax(x, axis=1)\n",
            "  File \"/usr/local/lib/python3.8/dist-packages/scipy/special/_logsumexp.py\", line 223, in softmax\n",
            "    x_max = np.amax(x, axis=axis, keepdims=True)\n",
            "  File \"<__array_function__ internals>\", line 180, in amax\n",
            "  File \"/usr/local/lib/python3.8/dist-packages/numpy/core/fromnumeric.py\", line 2791, in amax\n",
            "    return _wrapreduction(a, np.maximum, 'max', axis, None, out,\n",
            "  File \"/usr/local/lib/python3.8/dist-packages/numpy/core/fromnumeric.py\", line 86, in _wrapreduction\n",
            "    return ufunc.reduce(obj, axis, dtype, out, **passkwargs)\n",
            "numpy.AxisError: axis 1 is out of bounds for array of dimension 1\n",
            "\n"
          ]
        },
        {
          "output_type": "error",
          "ename": "AssertionError",
          "evalue": "ignored",
          "traceback": [
            "\u001b[0;31m---------------------------------------------------------------------------\u001b[0m",
            "\u001b[0;31mAssertionError\u001b[0m                            Traceback (most recent call last)",
            "\u001b[0;32m<timed exec>\u001b[0m in \u001b[0;36m<module>\u001b[0;34m\u001b[0m\n",
            "\u001b[0;32m/usr/local/lib/python3.8/dist-packages/lightautoml/automl/base.py\u001b[0m in \u001b[0;36mfit_predict\u001b[0;34m(self, train_data, roles, train_features, cv_iter, valid_data, valid_features, verbose)\u001b[0m\n\u001b[1;32m    210\u001b[0m             \u001b[0;32mfor\u001b[0m \u001b[0mk\u001b[0m\u001b[0;34m,\u001b[0m \u001b[0mml_pipe\u001b[0m \u001b[0;32min\u001b[0m \u001b[0menumerate\u001b[0m\u001b[0;34m(\u001b[0m\u001b[0mlevel\u001b[0m\u001b[0;34m)\u001b[0m\u001b[0;34m:\u001b[0m\u001b[0;34m\u001b[0m\u001b[0;34m\u001b[0m\u001b[0m\n\u001b[1;32m    211\u001b[0m \u001b[0;34m\u001b[0m\u001b[0m\n\u001b[0;32m--> 212\u001b[0;31m                 \u001b[0mpipe_pred\u001b[0m \u001b[0;34m=\u001b[0m \u001b[0mml_pipe\u001b[0m\u001b[0;34m.\u001b[0m\u001b[0mfit_predict\u001b[0m\u001b[0;34m(\u001b[0m\u001b[0mtrain_valid\u001b[0m\u001b[0;34m)\u001b[0m\u001b[0;34m\u001b[0m\u001b[0;34m\u001b[0m\u001b[0m\n\u001b[0m\u001b[1;32m    213\u001b[0m                 \u001b[0mlevel_predictions\u001b[0m\u001b[0;34m.\u001b[0m\u001b[0mappend\u001b[0m\u001b[0;34m(\u001b[0m\u001b[0mpipe_pred\u001b[0m\u001b[0;34m)\u001b[0m\u001b[0;34m\u001b[0m\u001b[0;34m\u001b[0m\u001b[0m\n\u001b[1;32m    214\u001b[0m                 \u001b[0mpipes\u001b[0m\u001b[0;34m.\u001b[0m\u001b[0mappend\u001b[0m\u001b[0;34m(\u001b[0m\u001b[0mml_pipe\u001b[0m\u001b[0;34m)\u001b[0m\u001b[0;34m\u001b[0m\u001b[0;34m\u001b[0m\u001b[0m\n",
            "\u001b[0;32m/usr/local/lib/python3.8/dist-packages/lightautoml/pipelines/ml/base.py\u001b[0m in \u001b[0;36mfit_predict\u001b[0;34m(self, train_valid)\u001b[0m\n\u001b[1;32m    115\u001b[0m         \u001b[0mself\u001b[0m\u001b[0;34m.\u001b[0m\u001b[0mml_algos\u001b[0m \u001b[0;34m=\u001b[0m \u001b[0;34m[\u001b[0m\u001b[0;34m]\u001b[0m\u001b[0;34m\u001b[0m\u001b[0;34m\u001b[0m\u001b[0m\n\u001b[1;32m    116\u001b[0m         \u001b[0;31m# train and apply pre selection\u001b[0m\u001b[0;34m\u001b[0m\u001b[0;34m\u001b[0m\u001b[0;34m\u001b[0m\u001b[0m\n\u001b[0;32m--> 117\u001b[0;31m         \u001b[0mtrain_valid\u001b[0m \u001b[0;34m=\u001b[0m \u001b[0mtrain_valid\u001b[0m\u001b[0;34m.\u001b[0m\u001b[0mapply_selector\u001b[0m\u001b[0;34m(\u001b[0m\u001b[0mself\u001b[0m\u001b[0;34m.\u001b[0m\u001b[0mpre_selection\u001b[0m\u001b[0;34m)\u001b[0m\u001b[0;34m\u001b[0m\u001b[0;34m\u001b[0m\u001b[0m\n\u001b[0m\u001b[1;32m    118\u001b[0m \u001b[0;34m\u001b[0m\u001b[0m\n\u001b[1;32m    119\u001b[0m         \u001b[0;31m# apply features pipeline\u001b[0m\u001b[0;34m\u001b[0m\u001b[0;34m\u001b[0m\u001b[0;34m\u001b[0m\u001b[0m\n",
            "\u001b[0;32m/usr/local/lib/python3.8/dist-packages/lightautoml/validation/base.py\u001b[0m in \u001b[0;36mapply_selector\u001b[0;34m(self, selector)\u001b[0m\n\u001b[1;32m     96\u001b[0m         \"\"\"\n\u001b[1;32m     97\u001b[0m         \u001b[0;32mif\u001b[0m \u001b[0;32mnot\u001b[0m \u001b[0mselector\u001b[0m\u001b[0;34m.\u001b[0m\u001b[0mis_fitted\u001b[0m\u001b[0;34m:\u001b[0m\u001b[0;34m\u001b[0m\u001b[0;34m\u001b[0m\u001b[0m\n\u001b[0;32m---> 98\u001b[0;31m             \u001b[0mselector\u001b[0m\u001b[0;34m.\u001b[0m\u001b[0mfit\u001b[0m\u001b[0;34m(\u001b[0m\u001b[0mself\u001b[0m\u001b[0;34m)\u001b[0m\u001b[0;34m\u001b[0m\u001b[0;34m\u001b[0m\u001b[0m\n\u001b[0m\u001b[1;32m     99\u001b[0m         \u001b[0mtrain_valid\u001b[0m \u001b[0;34m=\u001b[0m \u001b[0mcopy\u001b[0m\u001b[0;34m(\u001b[0m\u001b[0mself\u001b[0m\u001b[0;34m)\u001b[0m\u001b[0;34m\u001b[0m\u001b[0;34m\u001b[0m\u001b[0m\n\u001b[1;32m    100\u001b[0m         \u001b[0mtrain_valid\u001b[0m\u001b[0;34m.\u001b[0m\u001b[0mtrain\u001b[0m \u001b[0;34m=\u001b[0m \u001b[0mselector\u001b[0m\u001b[0;34m.\u001b[0m\u001b[0mselect\u001b[0m\u001b[0;34m(\u001b[0m\u001b[0mtrain_valid\u001b[0m\u001b[0;34m.\u001b[0m\u001b[0mtrain\u001b[0m\u001b[0;34m)\u001b[0m\u001b[0;34m\u001b[0m\u001b[0;34m\u001b[0m\u001b[0m\n",
            "\u001b[0;32m/usr/local/lib/python3.8/dist-packages/lightautoml/pipelines/selection/base.py\u001b[0m in \u001b[0;36mfit\u001b[0;34m(self, train_valid)\u001b[0m\n\u001b[1;32m    185\u001b[0m \u001b[0;34m\u001b[0m\u001b[0m\n\u001b[1;32m    186\u001b[0m             \u001b[0;32mif\u001b[0m \u001b[0mself\u001b[0m\u001b[0;34m.\u001b[0m\u001b[0mimp_estimator\u001b[0m \u001b[0;32mis\u001b[0m \u001b[0;32mnot\u001b[0m \u001b[0;32mNone\u001b[0m\u001b[0;34m:\u001b[0m\u001b[0;34m\u001b[0m\u001b[0;34m\u001b[0m\u001b[0m\n\u001b[0;32m--> 187\u001b[0;31m                 \u001b[0mself\u001b[0m\u001b[0;34m.\u001b[0m\u001b[0mimp_estimator\u001b[0m\u001b[0;34m.\u001b[0m\u001b[0mfit\u001b[0m\u001b[0;34m(\u001b[0m\u001b[0mtrain_valid\u001b[0m\u001b[0;34m,\u001b[0m \u001b[0mself\u001b[0m\u001b[0;34m.\u001b[0m\u001b[0mml_algo\u001b[0m\u001b[0;34m,\u001b[0m \u001b[0mpreds\u001b[0m\u001b[0;34m)\u001b[0m\u001b[0;34m\u001b[0m\u001b[0;34m\u001b[0m\u001b[0m\n\u001b[0m\u001b[1;32m    188\u001b[0m \u001b[0;34m\u001b[0m\u001b[0m\n\u001b[1;32m    189\u001b[0m             \u001b[0mself\u001b[0m\u001b[0;34m.\u001b[0m\u001b[0mperform_selection\u001b[0m\u001b[0;34m(\u001b[0m\u001b[0mtrain_valid\u001b[0m\u001b[0;34m)\u001b[0m\u001b[0;34m\u001b[0m\u001b[0;34m\u001b[0m\u001b[0m\n",
            "\u001b[0;32m/usr/local/lib/python3.8/dist-packages/lightautoml/pipelines/selection/importance_based.py\u001b[0m in \u001b[0;36mfit\u001b[0;34m(self, train_valid, ml_algo, preds)\u001b[0m\n\u001b[1;32m     33\u001b[0m \u001b[0;34m\u001b[0m\u001b[0m\n\u001b[1;32m     34\u001b[0m         \"\"\"\n\u001b[0;32m---> 35\u001b[0;31m         assert (\n\u001b[0m\u001b[1;32m     36\u001b[0m             \u001b[0mml_algo\u001b[0m \u001b[0;32mis\u001b[0m \u001b[0;32mnot\u001b[0m \u001b[0;32mNone\u001b[0m\u001b[0;34m\u001b[0m\u001b[0;34m\u001b[0m\u001b[0m\n\u001b[1;32m     37\u001b[0m         ), \"ModelBasedImportanceEstimator: raw importances are None and no MLAlgo to calculate them.\"\n",
            "\u001b[0;31mAssertionError\u001b[0m: ModelBasedImportanceEstimator: raw importances are None and no MLAlgo to calculate them."
          ]
        }
      ],
      "source": [
        "%%time \n",
        "\n",
        "oof_pred = automl.fit_predict(train_data, roles={'target': TARGET_NAME})\n",
        "print('oof_pred:\\n{}\\nShape = {}'.format(oof_pred, oof_pred.shape))"
      ]
    },
    {
      "cell_type": "markdown",
      "metadata": {
        "id": "rjEq-_Nrr82a"
      },
      "source": [
        "### Step 6. Analyze fitted model  "
      ]
    },
    {
      "cell_type": "markdown",
      "metadata": {
        "id": "qmJP7pwTr82a"
      },
      "source": [
        "Below we analyze feature importances of different algos:"
      ]
    },
    {
      "cell_type": "code",
      "execution_count": null,
      "metadata": {
        "id": "BdO-iJxGr82a",
        "outputId": "230352f4-21e6-4995-93f7-aa7a2ab4e502",
        "colab": {
          "base_uri": "https://localhost:8080/",
          "height": 299
        }
      },
      "outputs": [
        {
          "output_type": "stream",
          "name": "stdout",
          "text": [
            "Feature importances of selector:\n",
            "None\n",
            "======================================================================\n"
          ]
        },
        {
          "output_type": "error",
          "ename": "IndexError",
          "evalue": "ignored",
          "traceback": [
            "\u001b[0;31m---------------------------------------------------------------------------\u001b[0m",
            "\u001b[0;31mIndexError\u001b[0m                                Traceback (most recent call last)",
            "\u001b[0;32m<ipython-input-139-27d3dd5582b5>\u001b[0m in \u001b[0;36m<module>\u001b[0;34m\u001b[0m\n\u001b[1;32m      4\u001b[0m \u001b[0;34m\u001b[0m\u001b[0m\n\u001b[1;32m      5\u001b[0m print('Feature importances of top level algorithm:\\n{}'\n\u001b[0;32m----> 6\u001b[0;31m               .format(automl.levels[-1][0].ml_algos[0].get_features_score()))\n\u001b[0m\u001b[1;32m      7\u001b[0m \u001b[0mprint\u001b[0m\u001b[0;34m(\u001b[0m\u001b[0;34m'='\u001b[0m \u001b[0;34m*\u001b[0m \u001b[0;36m70\u001b[0m\u001b[0;34m)\u001b[0m\u001b[0;34m\u001b[0m\u001b[0;34m\u001b[0m\u001b[0m\n\u001b[1;32m      8\u001b[0m \u001b[0;34m\u001b[0m\u001b[0m\n",
            "\u001b[0;31mIndexError\u001b[0m: list index out of range"
          ]
        }
      ],
      "source": [
        "print('Feature importances of selector:\\n{}'\n",
        "              .format(selector.get_features_score()))\n",
        "print('=' * 70)\n",
        "\n",
        "print('Feature importances of top level algorithm:\\n{}'\n",
        "              .format(automl.levels[-1][0].ml_algos[0].get_features_score()))\n",
        "print('=' * 70)\n",
        "\n",
        "print('Feature importances of lowest level algorithm - model 0:\\n{}'\n",
        "              .format(automl.levels[0][0].ml_algos[0].get_features_score()))\n",
        "print('=' * 70)\n",
        "\n",
        "print('Feature importances of lowest level algorithm - model 1:\\n{}'\n",
        "              .format(automl.levels[0][0].ml_algos[1].get_features_score()))\n",
        "print('=' * 70)"
      ]
    },
    {
      "cell_type": "markdown",
      "metadata": {
        "id": "-RZHbBfKr82a"
      },
      "source": [
        "### Step 7. Predict to test data and check scores"
      ]
    },
    {
      "cell_type": "code",
      "source": [
        "#oof_pred.data[:, 0].sum()\n",
        "\n",
        "\n",
        "def get_best_class(predict_labels):\n",
        "  return np.where(predict_labels == predict_labels.max())[0][0]#  predict_labels[predict_labels.max()]\n",
        "\n",
        "y_train_predict = pd.DataFrame(oof_pred.data).apply( lambda x: get_best_class(x), axis=1)\n"
      ],
      "metadata": {
        "id": "j0guF5PS5NiR"
      },
      "execution_count": null,
      "outputs": []
    },
    {
      "cell_type": "code",
      "execution_count": null,
      "metadata": {
        "id": "yUVvG1XXr82b",
        "outputId": "14c905c7-939f-424c-a74a-c59a503e0dce",
        "colab": {
          "base_uri": "https://localhost:8080/"
        }
      },
      "outputs": [
        {
          "output_type": "stream",
          "name": "stdout",
          "text": [
            "Check scores...\n",
            "TRAIN F1 (macro) score: 0.0932700528769926\n",
            "TRAIN F1 (micro) score: 0.011342973417611913\n",
            "CPU times: user 22.5 ms, sys: 1.09 ms, total: 23.6 ms\n",
            "Wall time: 48.7 ms\n"
          ]
        }
      ],
      "source": [
        "%%time\n",
        "\n",
        "#test_pred = automl.predict(test_data)\n",
        "# print('Prediction for test data:\\n{}\\nShape = {}'\n",
        "#               .format(test_pred, test_pred.shape))\n",
        "\n",
        "print('Check scores...')\n",
        "#print('OOF score: {}'.format(roc_auc_score(train_data[TARGET_NAME].values, oof_pred.data[:, 0])))\n",
        "#print('TEST score: {}'.format(roc_auc_score(test_data[TARGET_NAME].values, test_pred.data[:, 0])))\n",
        "print('TRAIN F1 (macro) score: {}'.format(f1_score(train_data[TARGET_NAME], y_train_predict, average = 'macro')))\n",
        "print('TRAIN F1 (micro) score: {}'.format(f1_score(train_data[TARGET_NAME], y_train_predict, average = 'micro')))\n",
        "\n",
        "# print('TEST F1 (macro) score: {}'.format(f1_score(test_data[TARGET_NAME].values, test_pred.data[:, 0], average = 'macro')))\n",
        "# print('TEST F1 (micro) score: {}'.format(f1_score(test_data[TARGET_NAME].values, test_pred.data[:, 0], average = 'micro')))\n",
        "\n"
      ]
    },
    {
      "cell_type": "markdown",
      "source": [
        "Fast (fast) - this method uses feature importances from feature selector LGBM model inside LightAutoML. It works extremely fast and almost always (almost because of situations, when feature selection is turned off or selector was removed from the final models with all GBM models). no need to use new labelled data."
      ],
      "metadata": {
        "id": "S_XUjyJRQ3id"
      }
    },
    {
      "cell_type": "code",
      "source": [
        "%%time\n",
        "\n",
        "# Fast feature importances calculation\n",
        "fast_fi = automl_rd.model.get_feature_scores('fast')\n",
        "fast_fi.set_index('Feature')['Importance'].plot.bar(figsize = (30, 10), grid = True)"
      ],
      "metadata": {
        "id": "uUAqPajRQ3sP"
      },
      "execution_count": null,
      "outputs": []
    },
    {
      "cell_type": "markdown",
      "source": [
        "Accurate (accurate) - this method calculate features permutation importances for the whole LightAutoML model based on the new labelled data. It always works but can take a lot of time to finish (depending on the model structure, new labelled dataset size etc.)"
      ],
      "metadata": {
        "id": "YP5KePmFQvYF"
      }
    },
    {
      "cell_type": "code",
      "source": [
        "%%time\n",
        "\n",
        "# Accurate feature importances calculation (Permutation importances) -  can take long time to calculate\n",
        "accurate_fi = automl_rd.model.get_feature_scores('accurate', te_data, silent = False)"
      ],
      "metadata": {
        "id": "BwNUsVylQvso"
      },
      "execution_count": null,
      "outputs": []
    },
    {
      "cell_type": "markdown",
      "source": [
        "## Save model"
      ],
      "metadata": {
        "id": "bhQODur73ycB"
      }
    },
    {
      "cell_type": "code",
      "source": [
        "with open('apperance_model.pkl', 'wb') as f:\n",
        "    pickle.dump(automl, f)"
      ],
      "metadata": {
        "id": "adzbV4cc3ym_"
      },
      "execution_count": null,
      "outputs": []
    },
    {
      "cell_type": "code",
      "source": [
        "with open('apperance_model.pkl', 'rb') as f:\n",
        "    automl = pickle.load(f)\n",
        "automl.set_verbosity_level(2)"
      ],
      "metadata": {
        "id": "XC8m9Z0r32BO"
      },
      "execution_count": null,
      "outputs": []
    }
  ],
  "metadata": {
    "kernelspec": {
      "display_name": "rinchin_lama_dev",
      "language": "python",
      "name": "rinchin_lama_dev"
    },
    "language_info": {
      "codemirror_mode": {
        "name": "ipython",
        "version": 3
      },
      "file_extension": ".py",
      "mimetype": "text/x-python",
      "name": "python",
      "nbconvert_exporter": "python",
      "pygments_lexer": "ipython3",
      "version": "3.8.5"
    },
    "toc": {
      "base_numbering": 1,
      "nav_menu": {},
      "number_sections": true,
      "sideBar": true,
      "skip_h1_title": false,
      "title_cell": "Table of Contents",
      "title_sidebar": "Contents",
      "toc_cell": false,
      "toc_position": {},
      "toc_section_display": true,
      "toc_window_display": false
    },
    "colab": {
      "provenance": []
    }
  },
  "nbformat": 4,
  "nbformat_minor": 0
}